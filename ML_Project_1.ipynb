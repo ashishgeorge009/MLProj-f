{
 "cells": [
  {
   "cell_type": "code",
   "execution_count": 570,
   "metadata": {
    "id": "GCjxYgPL7Num"
   },
   "outputs": [],
   "source": [
    "import pandas as pd\n",
    "import numpy as np\n",
    "from sklearn.preprocessing import MinMaxScaler\n",
    "from sklearn.preprocessing import LabelEncoder\n",
    "from sklearn.model_selection import train_test_split\n",
    "from sklearn.feature_selection import SelectKBest\n",
    "from sklearn.feature_selection import chi2\n",
    "from imblearn.over_sampling import BorderlineSMOTE\n",
    "from sklearn.semi_supervised import SelfTrainingClassifier\n",
    "import xgboost as xgb\n",
    "from sklearn.ensemble import RandomForestClassifier\n",
    "from sklearn.mixture import GaussianMixture\n",
    "from sklearn.metrics import classification_report,confusion_matrix\n",
    "from sklearn.metrics import f1_score\n",
    "import matplotlib.pyplot as plt\n",
    "from matplotlib.pyplot import figure\n",
    "from sklearn import metrics\n",
    "from sklearn.semi_supervised import LabelPropagation\n",
    "from sklearn.semi_supervised import LabelSpreading\n",
    "from sklearn.neighbors import KNeighborsClassifier\n",
    "from sklearn.svm import SVC\n",
    "from sklearn.tree import DecisionTreeClassifier\n",
    "from sklearn.ensemble import RandomForestClassifier\n",
    "from sklearn.neural_network import MLPClassifier\n",
    "from sklearn.ensemble import GradientBoostingClassifier\n",
    "import statistics\n",
    "from statistics import mode\n",
    "import timeit\n",
    "import warnings\n",
    "from sklearn.metrics import accuracy_score as acc\n",
    "\n",
    "warnings.filterwarnings(\"ignore\")\n"
   ]
  },
  {
   "cell_type": "markdown",
   "metadata": {
    "id": "mVJeXul479PP"
   },
   "source": [
    "# Dataset-1(Online Shoppers)"
   ]
  },
  {
   "cell_type": "code",
   "execution_count": 571,
   "metadata": {
    "id": "IxDuPnYWcO5x"
   },
   "outputs": [],
   "source": [
    "D1_bal =[]\n",
    "D1_skw = []"
   ]
  },
  {
   "cell_type": "markdown",
   "metadata": {
    "id": "l7RbzhMRRL-W"
   },
   "source": [
    "## Data Transformation"
   ]
  },
  {
   "cell_type": "code",
   "execution_count": 572,
   "metadata": {
    "id": "yOK1mPxM735Z"
   },
   "outputs": [],
   "source": [
    "df1 = pd.read_csv('https://raw.githubusercontent.com/ashishgeorge009/Assignment_2/master/online_shoppers_intention.csv')"
   ]
  },
  {
   "cell_type": "code",
   "execution_count": 573,
   "metadata": {
    "colab": {
     "base_uri": "https://localhost:8080/"
    },
    "id": "Ys1XFbwA9dxF",
    "outputId": "6eef972d-bf25-4456-b854-a06ec108e3a1"
   },
   "outputs": [
    {
     "name": "stdout",
     "output_type": "stream",
     "text": [
      "<class 'pandas.core.frame.DataFrame'>\n",
      "RangeIndex: 12330 entries, 0 to 12329\n",
      "Data columns (total 18 columns):\n",
      " #   Column                   Non-Null Count  Dtype  \n",
      "---  ------                   --------------  -----  \n",
      " 0   Administrative           12330 non-null  int64  \n",
      " 1   Administrative_Duration  12330 non-null  float64\n",
      " 2   Informational            12330 non-null  int64  \n",
      " 3   Informational_Duration   12330 non-null  float64\n",
      " 4   ProductRelated           12330 non-null  int64  \n",
      " 5   ProductRelated_Duration  12330 non-null  float64\n",
      " 6   BounceRates              12330 non-null  float64\n",
      " 7   ExitRates                12330 non-null  float64\n",
      " 8   PageValues               12330 non-null  float64\n",
      " 9   SpecialDay               12330 non-null  float64\n",
      " 10  Month                    12330 non-null  object \n",
      " 11  OperatingSystems         12330 non-null  int64  \n",
      " 12  Browser                  12330 non-null  int64  \n",
      " 13  Region                   12330 non-null  int64  \n",
      " 14  TrafficType              12330 non-null  int64  \n",
      " 15  VisitorType              12330 non-null  object \n",
      " 16  Weekend                  12330 non-null  bool   \n",
      " 17  Revenue                  12330 non-null  bool   \n",
      "dtypes: bool(2), float64(7), int64(7), object(2)\n",
      "memory usage: 1.5+ MB\n"
     ]
    }
   ],
   "source": [
    "df1.info()"
   ]
  },
  {
   "cell_type": "code",
   "execution_count": 574,
   "metadata": {
    "id": "bgoyLUWF8c8R"
   },
   "outputs": [],
   "source": [
    "Y=df1['Revenue']\n",
    "X=df1.drop('Revenue',axis=1)"
   ]
  },
  {
   "cell_type": "code",
   "execution_count": 575,
   "metadata": {
    "id": "EJYueMQM_OPt"
   },
   "outputs": [],
   "source": [
    "Y = Y.astype(int)"
   ]
  },
  {
   "cell_type": "code",
   "execution_count": 576,
   "metadata": {
    "id": "YrMIaQRC9H2g"
   },
   "outputs": [],
   "source": [
    "X_numerical = X.drop(['Month','VisitorType'],axis=1)\n",
    "scaler = MinMaxScaler()\n",
    "X_num_scaled = scaler.fit_transform(X_numerical)\n",
    "X_num_scaled.shape #zero mean unit variance standardization\n",
    "X_num_sc=pd.DataFrame(X_num_scaled,columns=list(X_numerical.columns))\n",
    "X_scaled = pd.concat([X_num_sc,X[['Month','VisitorType']]],axis=1)\n",
    "X_scaled_enc=X_scaled #made another variable just to preserve the above one\n",
    "for i in ['VisitorType']:\n",
    "    dummies = pd.get_dummies(X_scaled[i]) #1-hot encoding\n",
    "    dummies.columns=str(i)+'_'+dummies.columns \n",
    "    X_scaled_enc = pd.concat([X_scaled_enc,dummies],axis=1)\n",
    "    X_scaled_enc.drop(i,inplace=True,axis=1)\n",
    "#label encoding month\n",
    "le_month = LabelEncoder()\n",
    "X_scaled_enc['Month'] = le_month.fit_transform(X_scaled_enc['Month'])\n"
   ]
  },
  {
   "cell_type": "code",
   "execution_count": 577,
   "metadata": {
    "colab": {
     "base_uri": "https://localhost:8080/"
    },
    "id": "_KZgPSaA-8Pv",
    "outputId": "f3eb0b25-f9f7-467a-995d-56c7039754e0"
   },
   "outputs": [
    {
     "name": "stdout",
     "output_type": "stream",
     "text": [
      "<class 'pandas.core.frame.DataFrame'>\n",
      "RangeIndex: 12330 entries, 0 to 12329\n",
      "Data columns (total 19 columns):\n",
      " #   Column                         Non-Null Count  Dtype  \n",
      "---  ------                         --------------  -----  \n",
      " 0   Administrative                 12330 non-null  float64\n",
      " 1   Administrative_Duration        12330 non-null  float64\n",
      " 2   Informational                  12330 non-null  float64\n",
      " 3   Informational_Duration         12330 non-null  float64\n",
      " 4   ProductRelated                 12330 non-null  float64\n",
      " 5   ProductRelated_Duration        12330 non-null  float64\n",
      " 6   BounceRates                    12330 non-null  float64\n",
      " 7   ExitRates                      12330 non-null  float64\n",
      " 8   PageValues                     12330 non-null  float64\n",
      " 9   SpecialDay                     12330 non-null  float64\n",
      " 10  OperatingSystems               12330 non-null  float64\n",
      " 11  Browser                        12330 non-null  float64\n",
      " 12  Region                         12330 non-null  float64\n",
      " 13  TrafficType                    12330 non-null  float64\n",
      " 14  Weekend                        12330 non-null  float64\n",
      " 15  Month                          12330 non-null  int64  \n",
      " 16  VisitorType_New_Visitor        12330 non-null  uint8  \n",
      " 17  VisitorType_Other              12330 non-null  uint8  \n",
      " 18  VisitorType_Returning_Visitor  12330 non-null  uint8  \n",
      "dtypes: float64(15), int64(1), uint8(3)\n",
      "memory usage: 1.5 MB\n"
     ]
    }
   ],
   "source": [
    "X_scaled_enc.info()"
   ]
  },
  {
   "cell_type": "code",
   "execution_count": 578,
   "metadata": {
    "id": "eprKvYpg-K2i"
   },
   "outputs": [],
   "source": [
    "from sklearn.model_selection import train_test_split\n",
    "X_train, X_test, y_train,y_test = train_test_split(X_scaled_enc,Y,test_size=0.3,random_state=42)"
   ]
  },
  {
   "cell_type": "markdown",
   "metadata": {
    "id": "BMMcfEAU_tb5"
   },
   "source": [
    "## Feature Selection"
   ]
  },
  {
   "cell_type": "code",
   "execution_count": 579,
   "metadata": {
    "colab": {
     "base_uri": "https://localhost:8080/"
    },
    "id": "bbNGNo7C_HGf",
    "outputId": "dd1773f7-bd06-46d7-e6d9-5c9f497c0b73"
   },
   "outputs": [
    {
     "data": {
      "text/plain": [
       "['Administrative',\n",
       " 'Administrative_Duration',\n",
       " 'Informational',\n",
       " 'Informational_Duration',\n",
       " 'ProductRelated',\n",
       " 'ProductRelated_Duration',\n",
       " 'BounceRates',\n",
       " 'ExitRates',\n",
       " 'PageValues',\n",
       " 'SpecialDay',\n",
       " 'OperatingSystems',\n",
       " 'Weekend',\n",
       " 'Month',\n",
       " 'VisitorType_New_Visitor',\n",
       " 'VisitorType_Returning_Visitor']"
      ]
     },
     "execution_count": 579,
     "metadata": {},
     "output_type": "execute_result"
    }
   ],
   "source": [
    "\n",
    "sel_cols = SelectKBest(chi2, k=15)\n",
    "sel_cols.fit(X_train, y_train)\n",
    "topk = list(X_train.columns[sel_cols.get_support()])\n",
    "topk"
   ]
  },
  {
   "cell_type": "code",
   "execution_count": 580,
   "metadata": {
    "id": "B4Wlx-a4_39t"
   },
   "outputs": [],
   "source": [
    "X_train= X_train[topk]\n",
    "X_test = X_test[topk]"
   ]
  },
  {
   "cell_type": "code",
   "execution_count": 581,
   "metadata": {
    "id": "qZWdgSuRALd7"
   },
   "outputs": [],
   "source": [
    "#creating balanced and unbalanced data\n",
    "smt = BorderlineSMOTE(random_state =42)\n",
    "X_t_skew = X_train\n",
    "y_t_skew = y_train\n",
    "X_t_bal, y_bal = smt.fit_resample(X_train,y_train)\n"
   ]
  },
  {
   "cell_type": "markdown",
   "metadata": {
    "id": "OF5f6-NiUMOe"
   },
   "source": [
    "## Self_Training"
   ]
  },
  {
   "cell_type": "code",
   "execution_count": null,
   "metadata": {
    "id": "_P7PpRdH7soN"
   },
   "outputs": [],
   "source": []
  },
  {
   "cell_type": "markdown",
   "metadata": {
    "id": "HoxgHf2kLkEf"
   },
   "source": [
    "*Balanced* Dataset"
   ]
  },
  {
   "cell_type": "code",
   "execution_count": 49,
   "metadata": {
    "id": "pZX55_WpLyTe"
   },
   "outputs": [],
   "source": [
    "#self training\n",
    "\n",
    "rfc = RandomForestClassifier(n_estimators=100, criterion =  'entropy', max_depth = 15, max_features = 'auto')\n",
    "stc = SelfTrainingClassifier(rfc, thre)"
   ]
  },
  {
   "cell_type": "code",
   "execution_count": 50,
   "metadata": {
    "colab": {
     "base_uri": "https://localhost:8080/"
    },
    "id": "U2vtKlVLA728",
    "outputId": "8acdd8ec-0eba-4fff-873d-c5e9dd99c832"
   },
   "outputs": [
    {
     "name": "stdout",
     "output_type": "stream",
     "text": [
      "[[2808  316]\n",
      " [ 135  440]]\n",
      "\n",
      "\n",
      "              precision    recall  f1-score   support\n",
      "\n",
      "           0       0.95      0.90      0.93      3124\n",
      "           1       0.58      0.77      0.66       575\n",
      "\n",
      "    accuracy                           0.88      3699\n",
      "   macro avg       0.77      0.83      0.79      3699\n",
      "weighted avg       0.90      0.88      0.88      3699\n",
      "\n",
      "0.6611570247933884\n"
     ]
    }
   ],
   "source": [
    "#fully_supervised\n",
    "rfc.fit(X_t_bal,y_bal)\n",
    "pred = rfc.predict(X_test)\n",
    "print(confusion_matrix(y_test,pred))\n",
    "print('\\n')\n",
    "print(classification_report(y_test,pred))\n",
    "f1 = f1_score(y_test,pred)\n",
    "print(f1)"
   ]
  },
  {
   "cell_type": "code",
   "execution_count": null,
   "metadata": {
    "id": "Fnk13b-BINVj"
   },
   "outputs": [],
   "source": []
  },
  {
   "cell_type": "code",
   "execution_count": 51,
   "metadata": {
    "colab": {
     "base_uri": "https://localhost:8080/"
    },
    "id": "SE7cBtbcTVli",
    "outputId": "637d382b-55ad-4903-c8b5-0c62bba0338d"
   },
   "outputs": [
    {
     "name": "stdout",
     "output_type": "stream",
     "text": [
      "[14596, 13136, 11676, 7298, 1459, 729]\n"
     ]
    }
   ],
   "source": [
    "ls = [1,0.9,0.8,0.5,0.1,0.05]\n",
    "x = y_bal.shape[0]\n",
    "ratios = [int(i*x) for i in ls]\n",
    "print(ratios)"
   ]
  },
  {
   "cell_type": "markdown",
   "metadata": {
    "id": "V4fnmJhuP8e7"
   },
   "source": [
    "Fitting and predicting"
   ]
  },
  {
   "cell_type": "code",
   "execution_count": 52,
   "metadata": {
    "id": "Xx2zKWxzV2rX"
   },
   "outputs": [
    {
     "name": "stdout",
     "output_type": "stream",
     "text": [
      "[0.6626596543951916, 0.6586102719033232, 0.6620689655172413, 0.6582491582491582, 0.604, 0.6287262872628726]\n",
      "Runtime for 95% unlabeled data:  12.477540685998974\n"
     ]
    }
   ],
   "source": [
    "#fitting and caclulating f1 score for each percentage \n",
    "f1scores = []\n",
    "for n in ratios:\n",
    "  y_t = y_bal.copy()\n",
    "  y_t[n:] = -1\n",
    "  if (n==ratios[-1]):\n",
    "    start = timeit.default_timer()\n",
    "  stc = SelfTrainingClassifier(rfc)\n",
    "  stc.fit(X_t_bal,y_t)\n",
    "  if (n==ratios[-1]):\n",
    "    stop = timeit.default_timer()\n",
    "    time_for_95 = stop-start\n",
    "  pred = stc.predict(X_test)\n",
    "  f1scores.append(f1_score(y_test,pred))\n",
    "print(f1scores)\n",
    "print(\"Runtime for 95% unlabeled data: \",time_for_95)"
   ]
  },
  {
   "cell_type": "code",
   "execution_count": 53,
   "metadata": {
    "id": "DqJXCFbCIUFq"
   },
   "outputs": [],
   "source": [
    "l = [0,10,20,50,90,95]\n",
    "\n",
    "# f1scores.insert(0,f1)\n"
   ]
  },
  {
   "cell_type": "code",
   "execution_count": 54,
   "metadata": {
    "id": "t20Nc6829JZa"
   },
   "outputs": [
    {
     "data": {
      "image/png": "[encoded data removed]",
      "text/plain": [
       "<Figure size 800x320 with 1 Axes>"
      ]
     },
     "metadata": {
      "needs_background": "light"
     },
     "output_type": "display_data"
    }
   ],
   "source": [
    "\n",
    "\n",
    "figure(figsize=(10, 4), dpi=80)    \n",
    "\n",
    "plt.xlabel(\"% of unlabeled data\")\n",
    "plt.ylabel(\"F1_score\")\n",
    "plt.title('D1-Balanced Dataset-Self_training')\n",
    "for x,y in zip(l,f1scores):\n",
    "\n",
    "    label = \"{:.4f}\".format(y)\n",
    "\n",
    "    plt.annotate(label, # this is the text\n",
    "                 (x,y), # these are the coordinates to position the label\n",
    "                 textcoords=\"offset points\", # how to position the text\n",
    "                 xytext=(0,10), # distance from text to points (x,y)\n",
    "                 ha='center') # horizontal alignment can be left, right or center\n",
    "plt.grid(which='major', alpha=0.5)\n",
    "plt.plot(l,f1scores,marker=\"o\")\n",
    "plt.show()"
   ]
  },
  {
   "cell_type": "code",
   "execution_count": 55,
   "metadata": {
    "id": "53dDr6y49KZo"
   },
   "outputs": [
    {
     "name": "stdout",
     "output_type": "stream",
     "text": [
      "The % of unlabeled data with maximum f1 score:  0\n"
     ]
    }
   ],
   "source": [
    "maxf1 = max(f1scores)\n",
    "maxindex = f1scores.index(maxf1)\n",
    "maxpercent=l[maxindex]\n",
    "print(\"The % of unlabeled data with maximum f1 score: \", maxpercent)"
   ]
  },
  {
   "cell_type": "markdown",
   "metadata": {
    "id": "ZDkRFpmAV-rk"
   },
   "source": [
    "ROC Plotting"
   ]
  },
  {
   "cell_type": "code",
   "execution_count": 56,
   "metadata": {
    "id": "IVUEzhK4V-rk"
   },
   "outputs": [
    {
     "data": {
      "image/png": "[encoded data removed]",
      "text/plain": [
       "<Figure size 432x288 with 1 Axes>"
      ]
     },
     "metadata": {
      "needs_background": "light"
     },
     "output_type": "display_data"
    }
   ],
   "source": [
    "y_score = stc.predict_proba(X_test)[:,1]\n",
    "y_score[np.isnan(y_score)] = 0.5\n",
    "fpr, tpr, thresholds = metrics.roc_curve(y_test, y_score)\n",
    "roc_auc = metrics.auc(fpr, tpr)\n",
    "plt.title('D1-Balanced-Self_training - 95% Unlabeled')\n",
    "plt.plot(fpr, tpr, 'b', label = 'AUC = %0.4f' % roc_auc)\n",
    "plt.legend(loc = 'lower right')\n",
    "# plt.plot([0, 1], [0, 1])\n",
    "plt.xlim([0, 1])\n",
    "plt.ylim([0, 1])\n",
    "plt.ylabel('True Positive Rate')\n",
    "plt.xlabel('False Positive Rate')\n",
    "plt.show()\n"
   ]
  },
  {
   "cell_type": "code",
   "execution_count": 57,
   "metadata": {
    "id": "-qG21WaO9dWd"
   },
   "outputs": [],
   "source": [
    "#since in real life scenario labeled data would be very low thus would be taking the sample with 5% labeled data as the main one\n",
    "d1S_t_bal = f1scores[-1]\n",
    "# D1_bal.append(d1S_t_bal)"
   ]
  },
  {
   "cell_type": "markdown",
   "metadata": {
    "id": "XtWxEIssVDT2"
   },
   "source": [
    "Skewed Dataset"
   ]
  },
  {
   "cell_type": "code",
   "execution_count": 58,
   "metadata": {
    "id": "amNtWtnBVSXk"
   },
   "outputs": [
    {
     "name": "stdout",
     "output_type": "stream",
     "text": [
      "[[3006  118]\n",
      " [ 258  317]]\n",
      "\n",
      "\n",
      "              precision    recall  f1-score   support\n",
      "\n",
      "           0       0.92      0.96      0.94      3124\n",
      "           1       0.73      0.55      0.63       575\n",
      "\n",
      "    accuracy                           0.90      3699\n",
      "   macro avg       0.82      0.76      0.78      3699\n",
      "weighted avg       0.89      0.90      0.89      3699\n",
      "\n",
      "0.6277227722772277\n"
     ]
    }
   ],
   "source": [
    "#fully_supervised\n",
    "rfc.fit(X_t_skew,y_t_skew)\n",
    "pred = rfc.predict(X_test)\n",
    "\n",
    "print(confusion_matrix(y_test,pred))\n",
    "print('\\n')\n",
    "print(classification_report(y_test,pred))\n",
    "f1 = f1_score(y_test,pred)\n",
    "print(f1)"
   ]
  },
  {
   "cell_type": "code",
   "execution_count": 59,
   "metadata": {
    "id": "GJx5D7tGVSXl"
   },
   "outputs": [
    {
     "name": "stdout",
     "output_type": "stream",
     "text": [
      "[8631, 7767, 6904, 4315, 863, 431]\n"
     ]
    }
   ],
   "source": [
    "ls = [1,0.9,0.8,0.5,0.1,0.05]\n",
    "x = y_t_skew.shape[0]\n",
    "ratios = [int(i*x) for i in ls]\n",
    "print(ratios)"
   ]
  },
  {
   "cell_type": "markdown",
   "metadata": {
    "id": "oanmfzgQXmQi"
   },
   "source": [
    "Fitting and Predicting"
   ]
  },
  {
   "cell_type": "code",
   "execution_count": 60,
   "metadata": {
    "id": "RQpga--ZVSXm"
   },
   "outputs": [
    {
     "name": "stdout",
     "output_type": "stream",
     "text": [
      "[0.6214355948869223, 0.6329365079365079, 0.6210317460317459, 0.6169154228855721, 0.6245283018867924, 0.5914935707220573]\n",
      "Runtime for 95% unlabeled data:  5.392804705996241\n"
     ]
    }
   ],
   "source": [
    "f1scores = []\n",
    "for n in ratios:\n",
    "  y_t = y_t_skew.copy()\n",
    "  y_t[n:] = -1\n",
    "  if (n==ratios[-1]):\n",
    "    start = timeit.default_timer()\n",
    "  stc = SelfTrainingClassifier(rfc)\n",
    "  stc.fit(X_t_skew,y_t)\n",
    "  if (n==ratios[-1]):\n",
    "    stop = timeit.default_timer()\n",
    "    time_for_95 = stop-start\n",
    "  pred = stc.predict(X_test)\n",
    "  f1scores.append(f1_score(y_test,pred))\n",
    "print(f1scores)\n",
    "print(\"Runtime for 95% unlabeled data: \",time_for_95)"
   ]
  },
  {
   "cell_type": "code",
   "execution_count": 61,
   "metadata": {
    "id": "2qtivvdNVSXn"
   },
   "outputs": [],
   "source": [
    "l = [0,10,20,50,90,95]\n",
    "\n",
    "# f1scores.insert(0,f1)\n"
   ]
  },
  {
   "cell_type": "code",
   "execution_count": 62,
   "metadata": {
    "id": "JZ9WuEdiVSXn"
   },
   "outputs": [
    {
     "data": {
      "image/png": "[encoded data removed]",
      "text/plain": [
       "<Figure size 800x320 with 1 Axes>"
      ]
     },
     "metadata": {
      "needs_background": "light"
     },
     "output_type": "display_data"
    }
   ],
   "source": [
    "\n",
    "\n",
    "figure(figsize=(10, 4), dpi=80)    \n",
    "\n",
    "plt.xlabel(\"% of unlabeled data\")\n",
    "plt.ylabel(\"F1_score\")\n",
    "plt.title('D1-Skewed Dataset-Self_training')\n",
    "for x,y in zip(l,f1scores):\n",
    "\n",
    "    label = \"{:.4f}\".format(y)\n",
    "\n",
    "    plt.annotate(label, # this is the text\n",
    "                 (x,y), # these are the coordinates to position the label\n",
    "                 textcoords=\"offset points\", # how to position the text\n",
    "                 xytext=(0,10), # distance from text to points (x,y)\n",
    "                 ha='center') # horizontal alignment can be left, right or center\n",
    "plt.grid(which='major', alpha=0.5)\n",
    "plt.plot(l,f1scores,marker=\"o\")\n",
    "plt.show()"
   ]
  },
  {
   "cell_type": "code",
   "execution_count": 63,
   "metadata": {
    "id": "yms7fEQoVSXo"
   },
   "outputs": [
    {
     "name": "stdout",
     "output_type": "stream",
     "text": [
      "The % of unlabeled data with maximum f1 score:  10\n"
     ]
    }
   ],
   "source": [
    "maxf1 = max(f1scores)\n",
    "maxindex = f1scores.index(maxf1)\n",
    "maxpercent=l[maxindex]\n",
    "print(\"The % of unlabeled data with maximum f1 score: \", maxpercent)"
   ]
  },
  {
   "cell_type": "markdown",
   "metadata": {
    "id": "up6X-xX9W9mp"
   },
   "source": [
    "ROC Plotting"
   ]
  },
  {
   "cell_type": "code",
   "execution_count": 64,
   "metadata": {
    "id": "aWUe8Bk-W9mq"
   },
   "outputs": [
    {
     "data": {
      "image/png": "[encoded data removed]",
      "text/plain": [
       "<Figure size 432x288 with 1 Axes>"
      ]
     },
     "metadata": {
      "needs_background": "light"
     },
     "output_type": "display_data"
    }
   ],
   "source": [
    "y_score = stc.predict_proba(X_test)[:,1]\n",
    "y_score[np.isnan(y_score)] = 0.5\n",
    "fpr, tpr, thresholds = metrics.roc_curve(y_test, y_score)\n",
    "roc_auc = metrics.auc(fpr, tpr)\n",
    "plt.title('D1-Skewed-Self_training - 95% Unlabeled')\n",
    "plt.plot(fpr, tpr, 'b', label = 'AUC = %0.4f' % roc_auc)\n",
    "plt.legend(loc = 'lower right')\n",
    "# plt.plot([0, 1], [0, 1])\n",
    "plt.xlim([0, 1])\n",
    "plt.ylim([0, 1])\n",
    "plt.ylabel('True Positive Rate')\n",
    "plt.xlabel('False Positive Rate')\n",
    "plt.show()\n"
   ]
  },
  {
   "cell_type": "code",
   "execution_count": 65,
   "metadata": {
    "id": "olOr4rWdVSXp"
   },
   "outputs": [],
   "source": [
    "#since in real life scenario labeled data would be very low thus would be taking the sample with 5% labeled data as the main one\n",
    "d1S_t_skew = f1scores[-1]\n",
    "# D1_skw.append(S_t_skew)"
   ]
  },
  {
   "cell_type": "code",
   "execution_count": 66,
   "metadata": {
    "id": "85vkD4Mm-4Yg"
   },
   "outputs": [],
   "source": [
    "# S_t = max(S_t_skew,S_t_bal)"
   ]
  },
  {
   "cell_type": "code",
   "execution_count": null,
   "metadata": {
    "id": "TXvbbcbV_-rG"
   },
   "outputs": [],
   "source": []
  },
  {
   "cell_type": "markdown",
   "metadata": {
    "id": "4_kOqoyi3EOp"
   },
   "source": [
    "## **Ensemble Code**"
   ]
  },
  {
   "cell_type": "code",
   "execution_count": 67,
   "metadata": {
    "id": "HnLx6YY93Cvb"
   },
   "outputs": [],
   "source": [
    "from sklearn.neighbors import KNeighborsClassifier\n",
    "from sklearn.svm import SVC\n",
    "from sklearn.tree import DecisionTreeClassifier\n",
    "from sklearn.ensemble import RandomForestClassifier\n",
    "from sklearn.neural_network import MLPClassifier\n",
    "from sklearn.ensemble import GradientBoostingClassifier\n",
    "import statistics\n",
    "from statistics import mode\n"
   ]
  },
  {
   "cell_type": "code",
   "execution_count": 68,
   "metadata": {
    "id": "Nx5Cqb6A3CyU"
   },
   "outputs": [],
   "source": [
    "class ashishsemiensemble(): #created a bagging methode with majority classifier\n",
    "  def __init__(self):\n",
    "    #different models used for ensembel\n",
    "    self.knn = SelfTrainingClassifier(KNeighborsClassifier(metric= 'manhattan', n_neighbors= 3, weights= 'distance'))\n",
    "    self.svm = SelfTrainingClassifier(SVC(probability=True, gamma=\"auto\"))\n",
    "    self.dtree = SelfTrainingClassifier(DecisionTreeClassifier(criterion = 'entropy', max_depth = 10))\n",
    "    self.rfc = SelfTrainingClassifier(RandomForestClassifier(criterion= 'gini', max_depth = 8, max_features = 'auto', n_estimators = 100))\n",
    "    self.mlp = SelfTrainingClassifier(MLPClassifier(activation = 'relu', alpha = 0.2, hidden_layer_sizes= (100, 3), learning_rate= 'constant'))\n",
    "    self.gbc = SelfTrainingClassifier(GradientBoostingClassifier(criterion= 'mae', loss= 'exponential', n_estimators= 20))\n",
    "    \n",
    "\n",
    "    #fitting function--------------------------------\n",
    "  def fit(self,X,y): \n",
    "    #extracting labeled data\n",
    "    y_unlab = y[y==-1]\n",
    "    y_labeled = y[y!=-1]\n",
    "    X_labeled = X.loc[y[y!=-1].index]\n",
    "    X_unlab = X.loc[y[y==-1].index]\n",
    "    k= int(y_unlab.shape[0]) #finding the length of the unlabeled data\n",
    "\n",
    "    \n",
    "    #bagging the data-------------------------------------------\n",
    "    size = int(k*0.2)\n",
    "    start = 0\n",
    "    end = size\n",
    "    X_list = []\n",
    "    y_list = []\n",
    "    for i in range(0,6):\n",
    "      xtrainer = pd.concat([X_labeled,X_unlab[start:end]])\n",
    "      ytrainer = pd.concat([y_labeled,y_unlab[start:end]])\n",
    "      X_list.append(xtrainer)\n",
    "      y_list.append(ytrainer)\n",
    "      start = start+int(0.7*size)\n",
    "      end = end+int(0.7*size)\n",
    "    \n",
    "    #fitting the bagged data into different self training models\n",
    "    self.knn.fit(X_list[0],y_list[0])\n",
    "    print('Knnfitted')\n",
    "    self.svm.fit(X_list[1],y_list[1])\n",
    "    print('svmfitted')\n",
    "    self.dtree.fit(X_list[2],y_list[2])\n",
    "    print('dtreefitted')\n",
    "    self.rfc.fit(X_list[3],y_list[3])\n",
    "    print('rfcitted')\n",
    "    self.mlp.fit(X_list[4],y_list[4])\n",
    "    print('mlpfitted')\n",
    "    self.gbc.fit(X_list[5],y_list[5])\n",
    "    print('gbcfitted')\n",
    "  \n",
    "  #preditcion function-------------------\n",
    "  def predict(self,X):\n",
    "    predictions = []\n",
    "    y_score =[]\n",
    "    k=0\n",
    "    for index,row in X.iterrows():\n",
    "      predknn = self.knn.predict([row])[0]\n",
    "      predsvm = self.svm.predict([row])[0]\n",
    "      preddtree = self.dtree.predict([row])[0]\n",
    "      predrfc = self.rfc.predict([row])[0]\n",
    "      predmlp = self.mlp.predict([row])[0]\n",
    "      predgbc = self.gbc.predict([row])[0]\n",
    "      predlist = [predknn,predsvm,preddtree,predrfc,predmlp,predgbc,predrfc]\n",
    "      predictions.append(mode(predlist))#selecting using majority voting\n",
    "\n",
    "      # predic_score-------------------------------\n",
    "      # if(k%1000==0):\n",
    "      #   print(k)\n",
    "      # k=k+1\n",
    "    return pd.Series(data=predictions, index=X.index)\n",
    "  \n",
    "  #score_prediction\n",
    "  def predict_proba(self,X):\n",
    "    predknn = np.array(self.knn.predict_proba(X))\n",
    "    predsvm = np.array(self.svm.predict_proba(X))\n",
    "    preddtree = np.array(self.dtree.predict_proba(X))\n",
    "    predrfc = np.array(self.rfc.predict_proba(X))\n",
    "    predmlp = np.array(self.mlp.predict_proba(X))\n",
    "    predgbc = np.array(self.gbc.predict_proba(X))\n",
    "    # print(predknn)\n",
    "    probab = (predknn+predsvm+preddtree+predrfc+predmlp+predgbc+predrfc)/7\n",
    "    return probab\n",
    "\n",
    "\n",
    "\n",
    "\n",
    "    \n",
    "          \n",
    "      \n",
    "    \n",
    "\n"
   ]
  },
  {
   "cell_type": "code",
   "execution_count": null,
   "metadata": {
    "id": "cPpZl5lMkZAE"
   },
   "outputs": [],
   "source": []
  },
  {
   "cell_type": "markdown",
   "metadata": {
    "id": "SHtrPSjSd7LR"
   },
   "source": [
    "## Semi-Ensemble"
   ]
  },
  {
   "cell_type": "markdown",
   "metadata": {
    "id": "SHNx39j9kcmU"
   },
   "source": [
    "Balanced Data"
   ]
  },
  {
   "cell_type": "code",
   "execution_count": 69,
   "metadata": {
    "id": "R05_w2n4kcmV"
   },
   "outputs": [
    {
     "name": "stdout",
     "output_type": "stream",
     "text": [
      "[14596, 13136, 11676, 7298, 1459, 729]\n"
     ]
    }
   ],
   "source": [
    "ls = [1,0.9,0.8,0.5,0.1,0.05]\n",
    "x = y_bal.shape[0]\n",
    "ratios = [int(i*x) for i in ls]\n",
    "print(ratios)"
   ]
  },
  {
   "cell_type": "code",
   "execution_count": 70,
   "metadata": {
    "id": "COAI71PgkcmX"
   },
   "outputs": [],
   "source": [
    "import warnings\n",
    "warnings.filterwarnings(\"ignore\")"
   ]
  },
  {
   "cell_type": "code",
   "execution_count": 71,
   "metadata": {
    "id": "V59qBJRXkcmX"
   },
   "outputs": [
    {
     "name": "stdout",
     "output_type": "stream",
     "text": [
      "Knnfitted\n",
      "svmfitted\n",
      "dtreefitted\n",
      "rfcitted\n",
      "mlpfitted\n",
      "gbcfitted\n",
      "0.6596045197740114\n",
      "Knnfitted\n",
      "svmfitted\n",
      "dtreefitted\n",
      "rfcitted\n",
      "mlpfitted\n",
      "gbcfitted\n",
      "0.6579139314369074\n",
      "Knnfitted\n",
      "svmfitted\n",
      "dtreefitted\n",
      "rfcitted\n",
      "mlpfitted\n",
      "gbcfitted\n",
      "0.6651515151515152\n",
      "Knnfitted\n",
      "svmfitted\n",
      "dtreefitted\n",
      "rfcitted\n",
      "mlpfitted\n",
      "gbcfitted\n",
      "0.5839572192513369\n",
      "Knnfitted\n",
      "svmfitted\n",
      "dtreefitted\n",
      "rfcitted\n",
      "mlpfitted\n",
      "gbcfitted\n",
      "0.16666666666666666\n",
      "Knnfitted\n",
      "svmfitted\n",
      "dtreefitted\n",
      "rfcitted\n",
      "mlpfitted\n",
      "gbcfitted\n",
      "0.555440414507772\n",
      "[0.6596045197740114, 0.6579139314369074, 0.6651515151515152, 0.5839572192513369, 0.16666666666666666, 0.555440414507772]\n",
      "Runtime for 95% unlabeled data:  21.212831157004985\n"
     ]
    }
   ],
   "source": [
    "#fitting and predicting\n",
    "f1scores = []\n",
    "for n in ratios:\n",
    "  y_t = y_bal.copy()\n",
    "  y_t[n:] = -1\n",
    "  if (n==ratios[-1]):\n",
    "    start = timeit.default_timer()\n",
    "  ens= ashishsemiensemble()\n",
    "  ens.fit(X_t_bal,y_t)\n",
    "  if (n==ratios[-1]):\n",
    "    stop = timeit.default_timer()\n",
    "    time_for_95 = stop-start\n",
    "  pred = ens.predict(X_test)\n",
    "  f1scores.append(f1_score(y_test,pred))\n",
    "  print(f1_score(y_test,pred))\n",
    "print(f1scores)\n",
    "print(\"Runtime for 95% unlabeled data: \",time_for_95)"
   ]
  },
  {
   "cell_type": "code",
   "execution_count": 72,
   "metadata": {
    "id": "y5ml3p9jkcmY"
   },
   "outputs": [],
   "source": [
    "l = [0,10,20,50,90,95]"
   ]
  },
  {
   "cell_type": "markdown",
   "metadata": {
    "id": "tviEF7i6PnDn"
   },
   "source": [
    "F-1 score with % unlabeled Data"
   ]
  },
  {
   "cell_type": "code",
   "execution_count": 73,
   "metadata": {
    "id": "fJfESDX-kcmZ"
   },
   "outputs": [
    {
     "data": {
      "image/png": "[encoded data removed]",
      "text/plain": [
       "<Figure size 800x320 with 1 Axes>"
      ]
     },
     "metadata": {
      "needs_background": "light"
     },
     "output_type": "display_data"
    }
   ],
   "source": [
    "figure(figsize=(10, 4), dpi=80)    \n",
    "\n",
    "plt.xlabel(\"% of unlabeled data\")\n",
    "plt.ylabel(\"F1_score\")\n",
    "plt.title('D1 - Balanced Dataset:Semi-Ensemble')\n",
    "for x,y in zip(l,f1scores):\n",
    "\n",
    "    label = \"{:.4f}\".format(y)\n",
    "\n",
    "    plt.annotate(label, # this is the text\n",
    "                 (x,y), # these are the coordinates to position the label\n",
    "                 textcoords=\"offset points\", # how to position the text\n",
    "                 xytext=(0,10), # distance from text to points (x,y)\n",
    "                 ha='center') # horizontal alignment can be left, right or center\n",
    "plt.grid(which='major', alpha=0.5)\n",
    "plt.plot(l,f1scores,marker=\"o\")\n",
    "plt.show()"
   ]
  },
  {
   "cell_type": "code",
   "execution_count": 74,
   "metadata": {
    "id": "1AIM1KUvkcma"
   },
   "outputs": [
    {
     "name": "stdout",
     "output_type": "stream",
     "text": [
      "The % of unlabeled data with maximum f1 score:  20\n"
     ]
    }
   ],
   "source": [
    "maxf1 = max(f1scores)\n",
    "maxindex = f1scores.index(maxf1)\n",
    "maxpercent=l[maxindex]\n",
    "print(\"The % of unlabeled data with maximum f1 score: \", maxpercent)"
   ]
  },
  {
   "cell_type": "code",
   "execution_count": null,
   "metadata": {
    "id": "CFTN-b5C2f-o"
   },
   "outputs": [],
   "source": []
  },
  {
   "cell_type": "code",
   "execution_count": null,
   "metadata": {
    "id": "pLJUsCtF2ga3"
   },
   "outputs": [],
   "source": [
    " "
   ]
  },
  {
   "cell_type": "markdown",
   "metadata": {
    "id": "F_da9GvJPgsA"
   },
   "source": [
    "ROC Plotting"
   ]
  },
  {
   "cell_type": "code",
   "execution_count": 75,
   "metadata": {
    "id": "2-ZWnq543x_I"
   },
   "outputs": [
    {
     "data": {
      "image/png": "[encoded data removed]",
      "text/plain": [
       "<Figure size 432x288 with 1 Axes>"
      ]
     },
     "metadata": {
      "needs_background": "light"
     },
     "output_type": "display_data"
    }
   ],
   "source": [
    "y_score = ens.predict_proba(X_test)[:,1]\n",
    "y_score[np.isnan(y_score)] = 0.5\n",
    "fpr, tpr, thresholds = metrics.roc_curve(y_test, y_score)\n",
    "roc_auc = metrics.auc(fpr, tpr)\n",
    "plt.title('D1-Balanced-Semi-Ensemble 95% Unlabeled')\n",
    "plt.plot(fpr, tpr, 'b', label = 'AUC = %0.4f' % roc_auc)\n",
    "plt.legend(loc = 'lower right')\n",
    "# plt.plot([0, 1], [0, 1])\n",
    "plt.xlim([0, 1])\n",
    "plt.ylim([0, 1])\n",
    "plt.ylabel('True Positive Rate')\n",
    "plt.xlabel('False Positive Rate')\n",
    "plt.show()\n"
   ]
  },
  {
   "cell_type": "code",
   "execution_count": 76,
   "metadata": {
    "id": "NhJAysQTkcmh"
   },
   "outputs": [],
   "source": [
    "d1ens_bal = f1scores[-1]\n",
    "# D1_bal.append(ens_bal)"
   ]
  },
  {
   "cell_type": "markdown",
   "metadata": {
    "id": "SIobXdoikcmh"
   },
   "source": [
    "Skewed Dataset"
   ]
  },
  {
   "cell_type": "code",
   "execution_count": 77,
   "metadata": {
    "id": "RtiSMCl-kcmi"
   },
   "outputs": [
    {
     "name": "stdout",
     "output_type": "stream",
     "text": [
      "[8631, 7767, 6904, 4315, 863, 431]\n"
     ]
    }
   ],
   "source": [
    "ls = [1,0.9,0.8,0.5,0.1,0.05]\n",
    "x = y_t_skew.shape[0]\n",
    "ratios = [int(i*x) for i in ls]\n",
    "print(ratios)"
   ]
  },
  {
   "cell_type": "code",
   "execution_count": 78,
   "metadata": {
    "id": "tWGrjqYWkcmi"
   },
   "outputs": [
    {
     "name": "stdout",
     "output_type": "stream",
     "text": [
      "Knnfitted\n",
      "svmfitted\n",
      "dtreefitted\n",
      "rfcitted\n",
      "mlpfitted\n",
      "gbcfitted\n",
      "0.5627802690582959\n",
      "Knnfitted\n",
      "svmfitted\n",
      "dtreefitted\n",
      "rfcitted\n",
      "mlpfitted\n",
      "gbcfitted\n",
      "0.5896328293736501\n",
      "Knnfitted\n",
      "svmfitted\n",
      "dtreefitted\n",
      "rfcitted\n",
      "mlpfitted\n",
      "gbcfitted\n",
      "0.5598243688254666\n",
      "Knnfitted\n",
      "svmfitted\n",
      "dtreefitted\n",
      "rfcitted\n",
      "mlpfitted\n",
      "gbcfitted\n",
      "0.582441113490364\n",
      "Knnfitted\n",
      "svmfitted\n",
      "dtreefitted\n",
      "rfcitted\n",
      "mlpfitted\n",
      "gbcfitted\n",
      "0.576307363927428\n",
      "Knnfitted\n",
      "svmfitted\n",
      "dtreefitted\n",
      "rfcitted\n",
      "mlpfitted\n",
      "gbcfitted\n",
      "0.49767441860465106\n",
      "[0.5627802690582959, 0.5896328293736501, 0.5598243688254666, 0.582441113490364, 0.576307363927428, 0.49767441860465106]\n",
      "Runtime for 95% unlabeled data:  15.065627474003122\n"
     ]
    }
   ],
   "source": [
    "f1scores = []\n",
    "for n in ratios:\n",
    "  y_t = y_t_skew.copy()\n",
    "  y_t[n:] = -1\n",
    "  if (n==ratios[-1]):\n",
    "    start = timeit.default_timer()\n",
    "  ens= ashishsemiensemble()\n",
    "  ens.fit(X_t_skew,y_t)\n",
    "  if (n==ratios[-1]):\n",
    "    stop = timeit.default_timer()\n",
    "    time_for_95 = stop-start\n",
    "  pred = ens.predict(X_test)\n",
    "  f1scores.append(f1_score(y_test,pred))\n",
    "  print(f1_score(y_test,pred))\n",
    "print(f1scores)\n",
    "print(\"Runtime for 95% unlabeled data: \",time_for_95)"
   ]
  },
  {
   "cell_type": "code",
   "execution_count": 79,
   "metadata": {
    "id": "8Fubl4enkcmj"
   },
   "outputs": [
    {
     "data": {
      "image/png": "[encoded data removed]",
      "text/plain": [
       "<Figure size 800x320 with 1 Axes>"
      ]
     },
     "metadata": {
      "needs_background": "light"
     },
     "output_type": "display_data"
    }
   ],
   "source": [
    "figure(figsize=(10, 4), dpi=80)    \n",
    "\n",
    "plt.xlabel(\"% of unlabeled data\")\n",
    "plt.ylabel(\"F1_score\")\n",
    "plt.title('D1 -Skewed Dataset: Semi-Ensemble:')\n",
    "for x,y in zip(l,f1scores):\n",
    "\n",
    "    label = \"{:.4f}\".format(y)\n",
    "\n",
    "    plt.annotate(label, # this is the text\n",
    "                 (x,y), # these are the coordinates to position the label\n",
    "                 textcoords=\"offset points\", # how to position the text\n",
    "                 xytext=(0,10), # distance from text to points (x,y)\n",
    "                 ha='center') # horizontal alignment can be left, right or center\n",
    "plt.grid(which='major', alpha=0.5)\n",
    "plt.plot(l,f1scores,marker=\"o\")\n",
    "plt.show()"
   ]
  },
  {
   "cell_type": "code",
   "execution_count": 80,
   "metadata": {
    "id": "yzaqcneCkcmk"
   },
   "outputs": [
    {
     "name": "stdout",
     "output_type": "stream",
     "text": [
      "The % of unlabeled data with maximum f1 score:  10\n"
     ]
    }
   ],
   "source": [
    "maxf1 = max(f1scores)\n",
    "maxindex = f1scores.index(maxf1)\n",
    "maxpercent=l[maxindex]\n",
    "print(\"The % of unlabeled data with maximum f1 score: \", maxpercent)"
   ]
  },
  {
   "cell_type": "markdown",
   "metadata": {
    "id": "Wqp-Jmj0dcsd"
   },
   "source": [
    "ROC Plotting"
   ]
  },
  {
   "cell_type": "code",
   "execution_count": 81,
   "metadata": {
    "id": "isYebFTCdcse"
   },
   "outputs": [
    {
     "data": {
      "image/png": "[encoded data removed]",
      "text/plain": [
       "<Figure size 432x288 with 1 Axes>"
      ]
     },
     "metadata": {
      "needs_background": "light"
     },
     "output_type": "display_data"
    }
   ],
   "source": [
    "y_score = ens.predict_proba(X_test)[:,1]\n",
    "y_score[np.isnan(y_score)] = 0.5\n",
    "fpr, tpr, thresholds = metrics.roc_curve(y_test, y_score)\n",
    "roc_auc = metrics.auc(fpr, tpr)\n",
    "plt.title('D1-Skewed-Semi-Ensemble 95% Unlabeled')\n",
    "plt.plot(fpr, tpr, 'b', label = 'AUC = %0.4f' % roc_auc)\n",
    "plt.legend(loc = 'lower right')\n",
    "# plt.plot([0, 1], [0, 1])\n",
    "plt.xlim([0, 1])\n",
    "plt.ylim([0, 1])\n",
    "plt.ylabel('True Positive Rate')\n",
    "plt.xlabel('False Positive Rate')\n",
    "plt.show()\n"
   ]
  },
  {
   "cell_type": "code",
   "execution_count": 82,
   "metadata": {
    "id": "W_U-lO6zkcml"
   },
   "outputs": [],
   "source": [
    "d1ens_skew = f1scores[-1]\n",
    "# D1_skw.append(ens_skew)"
   ]
  },
  {
   "cell_type": "markdown",
   "metadata": {
    "id": "beWRuoCyWgaf"
   },
   "source": [
    "## Gausian Mixture Clustering and Random Forest"
   ]
  },
  {
   "cell_type": "code",
   "execution_count": 596,
   "metadata": {},
   "outputs": [],
   "source": [
    "class gausandrf(): #created a bagging methode with majority classifier\n",
    "    def __init__(self):\n",
    "        self.gm = GaussianMixture(n_components=2, random_state=42, covariance_type = 'full')\n",
    "        self.rfc = RandomForestClassifier(criterion= 'gini', max_depth = 8, max_features = 'auto', n_estimators = 100)\n",
    "#         self.rfctest = RandomForestClassifier(criterion= 'gini', max_depth = 8, max_features = 'auto', n_estimators = 100)\n",
    "    \n",
    "    \n",
    "\n",
    "    #fitting function--------------------------------\n",
    "    def fit(self,X,y): \n",
    "    #extracting labeled data\n",
    "        y_unlab = y[y==-1]\n",
    "        y_labeled = y[y!=-1]\n",
    "        X_labeled = X.loc[y[y!=-1].index]\n",
    "        X_unlab = X.loc[y[y==-1].index]\n",
    "#         self.rfctest.fit(X_labeled,y_labeled)\n",
    "        if(X_unlab.shape[0]!=0):\n",
    "            self.gm.fit(X_unlab)\n",
    "            y_tes = self.gm.predict(X_labeled)#creating to test if it is correctly classified\n",
    "            y_unlab_lb = self.gm.predict(X_unlab)\n",
    "            #testing the clusturing\n",
    "            y_tes_t = list(map( lambda x: 1 if x==0 else 0,list(y_tes)))\n",
    "            acc_2 = acc(y_labeled,y_tes_t)\n",
    "#             print(acc_1,acc_2)\n",
    "            if(acc_2>acc_1):\n",
    "                y_unlab_lb = list(map( lambda x: 1 if x==0 else 0,list(y_unlab_lb)))#reversing the cluster labels\n",
    "            X_train = pd.concat([X_labeled,X_unlab])\n",
    "            y_train = pd.concat([y_labeled,pd.Series(y_unlab_lb, index = X_unlab.index)])\n",
    "        else:\n",
    "            X_train = X\n",
    "            y_train = y\n",
    "        self.rfc.fit(X_train,y_train)\n",
    "    \n",
    "  \n",
    "    def predict(self,X):\n",
    "        return self.rfc.predict(X)\n",
    " \n",
    "    def predict_proba(self,X):\n",
    "        return self.rfc.predict_proba(X)\n",
    "    "
   ]
  },
  {
   "cell_type": "code",
   "execution_count": 582,
   "metadata": {},
   "outputs": [],
   "source": [
    "# gm = GaussianMixture(n_components=2, random_state=42)\n",
    "# rfc = SelfTrainingClassifier(RandomForestClassifier(criterion= 'gini', max_depth = 8, max_features = 'auto', n_estimators = 100))\n",
    "# y = y_train\n",
    "# X=X_train\n",
    "# y[6000:]=-1\n",
    "# y_unlab = y[y==-1]\n",
    "# y_labeled = y[y!=-1]\n",
    "# X_labeled = X.loc[y[y!=-1].index]\n",
    "# X_unlab = X.loc[y[y==-1].index]\n"
   ]
  },
  {
   "cell_type": "code",
   "execution_count": 587,
   "metadata": {},
   "outputs": [
    {
     "name": "stdout",
     "output_type": "stream",
     "text": [
      "0.7516666666666667 0.24833333333333332\n"
     ]
    },
    {
     "data": {
      "text/plain": [
       "0.6460481099656357"
      ]
     },
     "execution_count": 587,
     "metadata": {},
     "output_type": "execute_result"
    }
   ],
   "source": [
    "# gm.fit(X_unlab)\n",
    "# y_tes = gm.predict(X_labeled)\n",
    "\n",
    "# y_unlab_lb = gm.predict(X_unlab)\n",
    "# acc_1 = acc(y_labeled,y_tes)\n",
    "# y_tes_t = list(map( lambda x: 1 if x==0 else 0,list(y_tes)))\n",
    "# acc_2 = acc(y_labeled,y_tes_t)\n",
    "# print(acc_1,acc_2)\n",
    "# if(acc_2>acc_1):\n",
    "#     y_unlab_lb = list(map( lambda x: 1 if x==0 else 0,list(y_unlab_lb)))\n",
    "# X_train = pd.concat([X_labeled,X_unlab])\n",
    "# y_train = pd.concat([y_labeled,pd.Series(y_unlab_lb, index = X_unlab.index)])\n",
    "# rfc.fit(X_train,y_train)\n",
    "# pred = rfc.predict(X_test)\n",
    "# f1_score(y_test,pred)"
   ]
  },
  {
   "cell_type": "code",
   "execution_count": null,
   "metadata": {},
   "outputs": [],
   "source": []
  },
  {
   "cell_type": "code",
   "execution_count": null,
   "metadata": {},
   "outputs": [],
   "source": []
  },
  {
   "cell_type": "code",
   "execution_count": null,
   "metadata": {},
   "outputs": [],
   "source": []
  },
  {
   "cell_type": "markdown",
   "metadata": {
    "id": "BwAFz-zTJs1A"
   },
   "source": [
    "Balanced Data"
   ]
  },
  {
   "cell_type": "code",
   "execution_count": 597,
   "metadata": {
    "id": "7eR2yENUADS2"
   },
   "outputs": [
    {
     "name": "stdout",
     "output_type": "stream",
     "text": [
      "[14596, 13136, 11676, 7298, 1459, 729]\n"
     ]
    }
   ],
   "source": [
    "ls = [1,0.9,0.8,0.5,0.1,0.05]\n",
    "x = y_bal.shape[0]\n",
    "ratios = [int(i*x) for i in ls]\n",
    "print(ratios)"
   ]
  },
  {
   "cell_type": "code",
   "execution_count": 598,
   "metadata": {
    "id": "bnnzZVoJOou2"
   },
   "outputs": [],
   "source": [
    "import warnings\n",
    "warnings.filterwarnings(\"ignore\")"
   ]
  },
  {
   "cell_type": "code",
   "execution_count": 599,
   "metadata": {
    "id": "ecAK2SICAHmX"
   },
   "outputs": [
    {
     "name": "stdout",
     "output_type": "stream",
     "text": [
      "0.6591230551626591\n",
      "0.658357771260997\n",
      "0.6552006552006552\n",
      "0.3352735739231665\n",
      "0.26796929518492674\n",
      "0.21253405994550406\n",
      "[0.6591230551626591, 0.658357771260997, 0.6552006552006552, 0.3352735739231665, 0.26796929518492674, 0.21253405994550406]\n",
      "Runtime for 95% unlabeled data:  1.5975748899945756\n"
     ]
    }
   ],
   "source": [
    "f1scores = []\n",
    "for n in ratios:\n",
    "    y_t = y_bal.copy()\n",
    "    y_t[n:] = -1\n",
    "    if (n==ratios[-1]):\n",
    "        start = timeit.default_timer()\n",
    "    lbp= gausandrf()\n",
    "    lbp.fit(X_t_bal,y_t)\n",
    "    if (n==ratios[-1]):\n",
    "        stop = timeit.default_timer()\n",
    "        time_for_95 = stop-start\n",
    "    pred = lbp.predict(X_test)\n",
    "    f1scores.append(f1_score(y_test,pred))\n",
    "    print(f1_score(y_test,pred))\n",
    "print(f1scores)\n",
    "print(\"Runtime for 95% unlabeled data: \",time_for_95)"
   ]
  },
  {
   "cell_type": "code",
   "execution_count": 600,
   "metadata": {
    "id": "0msM0sOdJNtn"
   },
   "outputs": [],
   "source": [
    "l = [0,10,20,50,90,95]"
   ]
  },
  {
   "cell_type": "code",
   "execution_count": 601,
   "metadata": {
    "id": "dRk5N1x2_oDz"
   },
   "outputs": [
    {
     "data": {
      "image/png": "[encoded data removed]",
      "text/plain": [
       "<Figure size 800x320 with 1 Axes>"
      ]
     },
     "metadata": {
      "needs_background": "light"
     },
     "output_type": "display_data"
    }
   ],
   "source": [
    "figure(figsize=(10, 4), dpi=80)    \n",
    "\n",
    "plt.xlabel(\"% of unlabeled data\")\n",
    "plt.ylabel(\"F1_score\")\n",
    "plt.title('D1 Balanced Dataset- Gausian Mixture Clustering and Random Forest')\n",
    "for x,y in zip(l,f1scores):\n",
    "\n",
    "    label = \"{:.4f}\".format(y)\n",
    "\n",
    "    plt.annotate(label, \n",
    "                 (x,y), \n",
    "                 textcoords=\"offset points\", \n",
    "                 xytext=(0,10), \n",
    "                 ha='center') \n",
    "plt.grid(which='major', alpha=0.5)\n",
    "plt.plot(l,f1scores,marker=\"o\")\n",
    "plt.show()"
   ]
  },
  {
   "cell_type": "code",
   "execution_count": 602,
   "metadata": {
    "id": "Cm9kqzqUJRkY"
   },
   "outputs": [
    {
     "name": "stdout",
     "output_type": "stream",
     "text": [
      "The % of unlabeled data with maximum f1 score:  0\n"
     ]
    }
   ],
   "source": [
    "maxf1 = max(f1scores)\n",
    "maxindex = f1scores.index(maxf1)\n",
    "maxpercent=l[maxindex]\n",
    "print(\"The % of unlabeled data with maximum f1 score: \", maxpercent)"
   ]
  },
  {
   "cell_type": "code",
   "execution_count": null,
   "metadata": {
    "id": "TOFypDkqLrTD"
   },
   "outputs": [],
   "source": []
  },
  {
   "cell_type": "code",
   "execution_count": 605,
   "metadata": {
    "id": "ZIaDBdTSIYX2"
   },
   "outputs": [
    {
     "data": {
      "image/png": "[encoded data removed]",
      "text/plain": [
       "<Figure size 432x288 with 1 Axes>"
      ]
     },
     "metadata": {
      "needs_background": "light"
     },
     "output_type": "display_data"
    }
   ],
   "source": [
    "y_score = lbp.predict_proba(X_test)[:,1]\n",
    "# y_score[np.isnan(y_score)] = 0.5\n",
    "fpr, tpr, thresholds = metrics.roc_curve(y_test, y_score)\n",
    "roc_auc = metrics.auc(fpr, tpr)\n",
    "plt.title('D1 Balanced-Gausian Mixture Clustering and Random Forest 95% Unlabeled')\n",
    "plt.plot(fpr, tpr, 'b', label = 'AUC = %0.6f' % roc_auc)\n",
    "plt.legend(loc = 'lower right')\n",
    "# plt.plot([0, 1], [0, 1])\n",
    "plt.xlim([0, 1])\n",
    "plt.ylim([0, 1])\n",
    "plt.ylabel('True Positive Rate')\n",
    "plt.xlabel('False Positive Rate')\n",
    "plt.show()\n",
    "#  y_scorel.shape\n",
    "# metrics.plot_roc_curve(lbp, X_test, y_test,pos_label=1)\n"
   ]
  },
  {
   "cell_type": "code",
   "execution_count": 606,
   "metadata": {
    "id": "nPlQpUuxJ7CH"
   },
   "outputs": [],
   "source": [
    "d1lbp_bal = f1scores[-1]\n",
    "# D1_bal.append(lbp_bal)"
   ]
  },
  {
   "cell_type": "markdown",
   "metadata": {
    "id": "XKNxvw3xUpe0"
   },
   "source": [
    "Skewed Dataset"
   ]
  },
  {
   "cell_type": "code",
   "execution_count": 607,
   "metadata": {
    "id": "r51x2B8cK_2e"
   },
   "outputs": [
    {
     "name": "stdout",
     "output_type": "stream",
     "text": [
      "[8631, 7767, 6904, 4315, 863, 431]\n"
     ]
    }
   ],
   "source": [
    "ls = [1,0.9,0.8,0.5,0.1,0.05]\n",
    "x = y_t_skew.shape[0]\n",
    "ratios = [int(i*x) for i in ls]\n",
    "print(ratios)"
   ]
  },
  {
   "cell_type": "code",
   "execution_count": 608,
   "metadata": {
    "id": "vKupkUOKUySN"
   },
   "outputs": [
    {
     "name": "stdout",
     "output_type": "stream",
     "text": [
      "0.6452173913043479\n",
      "0.6449957228400343\n",
      "0.6474086661002549\n",
      "0.6262341325811001\n",
      "0.5200698080279232\n",
      "0.5185614849187936\n",
      "[0.6452173913043479, 0.6449957228400343, 0.6474086661002549, 0.6262341325811001, 0.5200698080279232, 0.5185614849187936]\n",
      "Runtime for 95% unlabeled data:  0.8356661680008983\n"
     ]
    }
   ],
   "source": [
    "f1scores = []\n",
    "for n in ratios:\n",
    "    y_t = y_t_skew.copy()\n",
    "    y_t[n:] = -1\n",
    "    if (n==ratios[-1]):\n",
    "        start = timeit.default_timer()\n",
    "    lbp= gausandrf()\n",
    "    lbp.fit(X_t_skew,y_t)\n",
    "    if (n==ratios[-1]):\n",
    "        stop = timeit.default_timer()\n",
    "        time_for_95 = stop-start\n",
    "    pred = lbp.predict(X_test)\n",
    "    f1scores.append(f1_score(y_test,pred))\n",
    "    print(f1_score(y_test,pred))\n",
    "print(f1scores)\n",
    "print(\"Runtime for 95% unlabeled data: \",time_for_95)"
   ]
  },
  {
   "cell_type": "code",
   "execution_count": 609,
   "metadata": {
    "id": "y9JHm37iUyeK"
   },
   "outputs": [
    {
     "data": {
      "image/png": "[encoded data removed]",
      "text/plain": [
       "<Figure size 800x320 with 1 Axes>"
      ]
     },
     "metadata": {
      "needs_background": "light"
     },
     "output_type": "display_data"
    }
   ],
   "source": [
    "figure(figsize=(10, 4), dpi=80)    \n",
    "\n",
    "plt.xlabel(\"% of unlabeled data\")\n",
    "plt.ylabel(\"F1_score\")\n",
    "plt.title('D1-Skewed Dataset: Gausian Mixture Clustering and Random Forest')\n",
    "for x,y in zip(l,f1scores):\n",
    "\n",
    "    label = \"{:.4f}\".format(y)\n",
    "\n",
    "    plt.annotate(label, # this is the text\n",
    "                 (x,y), # these are the coordinates to position the label\n",
    "                 textcoords=\"offset points\", # how to position the text\n",
    "                 xytext=(0,10), # distance from text to points (x,y)\n",
    "                 ha='center') # horizontal alignment can be left, right or center\n",
    "plt.grid(which='major', alpha=0.5)\n",
    "plt.plot(l,f1scores,marker=\"o\")\n",
    "plt.show()"
   ]
  },
  {
   "cell_type": "code",
   "execution_count": 610,
   "metadata": {
    "id": "PjrbNQ-ZUyf-"
   },
   "outputs": [
    {
     "name": "stdout",
     "output_type": "stream",
     "text": [
      "The % of unlabeled data with maximum f1 score:  20\n"
     ]
    }
   ],
   "source": [
    "maxf1 = max(f1scores)\n",
    "maxindex = f1scores.index(maxf1)\n",
    "maxpercent=l[maxindex]\n",
    "print(\"The % of unlabeled data with maximum f1 score: \", maxpercent)"
   ]
  },
  {
   "cell_type": "code",
   "execution_count": null,
   "metadata": {
    "id": "uANZvGaKNlXn"
   },
   "outputs": [],
   "source": []
  },
  {
   "cell_type": "markdown",
   "metadata": {
    "id": "aqyZ8bQUhwrF"
   },
   "source": [
    "ROC Curve"
   ]
  },
  {
   "cell_type": "code",
   "execution_count": 611,
   "metadata": {
    "id": "zWjV_iEDNluI"
   },
   "outputs": [
    {
     "data": {
      "image/png": "[encoded data removed]",
      "text/plain": [
       "<Figure size 432x288 with 1 Axes>"
      ]
     },
     "metadata": {
      "needs_background": "light"
     },
     "output_type": "display_data"
    }
   ],
   "source": [
    "y_score = lbp.predict_proba(X_test)[:,1]\n",
    "y_score[np.isnan(y_score)] = 0.5\n",
    "fpr, tpr, thresholds = metrics.roc_curve(y_test, y_score)\n",
    "roc_auc = metrics.auc(fpr, tpr)\n",
    "plt.title('D1 Skewed-Gausian Mixture Clustering and Random Forest 95% Unlabeled')\n",
    "plt.plot(fpr, tpr, 'b', label = 'AUC = %0.6f' % roc_auc)\n",
    "plt.legend(loc = 'lower right')\n",
    "# plt.plot([0, 1], [0, 1])\n",
    "plt.xlim([0, 1])\n",
    "plt.ylim([0, 1])\n",
    "plt.ylabel('True Positive Rate')\n",
    "plt.xlabel('False Positive Rate')\n",
    "plt.show()\n",
    "#  y_scorel.shape\n",
    "# metrics.plot_roc_curve(lbp, X_test, y_test,pos_label=1)\n"
   ]
  },
  {
   "cell_type": "code",
   "execution_count": 612,
   "metadata": {
    "id": "1i4YMNJHmoge"
   },
   "outputs": [],
   "source": [
    "d1lbp_skew = f1scores[-1]\n",
    "# D1_skw.append(lbp_skew)"
   ]
  },
  {
   "cell_type": "code",
   "execution_count": null,
   "metadata": {
    "id": "DF9MnPq0HKzd"
   },
   "outputs": [],
   "source": []
  },
  {
   "cell_type": "markdown",
   "metadata": {
    "id": "fCGHbFIcctCT"
   },
   "source": [
    "# Dataset-2: Marketing Campaign"
   ]
  },
  {
   "cell_type": "markdown",
   "metadata": {
    "id": "8iThi4BxiOFp"
   },
   "source": [
    "## Data Transformation"
   ]
  },
  {
   "cell_type": "code",
   "execution_count": 613,
   "metadata": {
    "id": "XaEvsLL-svpw"
   },
   "outputs": [],
   "source": [
    "D2_bal = []\n",
    "D2_skw = []"
   ]
  },
  {
   "cell_type": "code",
   "execution_count": 614,
   "metadata": {
    "id": "CWLYnF9yUyjo"
   },
   "outputs": [],
   "source": [
    "df2 = pd.read_csv('https://raw.githubusercontent.com/ashishgeorge009/Assignment_2/master/marketing_campaign.csv')"
   ]
  },
  {
   "cell_type": "code",
   "execution_count": 615,
   "metadata": {
    "id": "pooyRySbc70r"
   },
   "outputs": [
    {
     "name": "stdout",
     "output_type": "stream",
     "text": [
      "<class 'pandas.core.frame.DataFrame'>\n",
      "RangeIndex: 2240 entries, 0 to 2239\n",
      "Data columns (total 29 columns):\n",
      " #   Column               Non-Null Count  Dtype  \n",
      "---  ------               --------------  -----  \n",
      " 0   ID                   2240 non-null   int64  \n",
      " 1   Year_Birth           2240 non-null   int64  \n",
      " 2   Education            2240 non-null   object \n",
      " 3   Marital_Status       2240 non-null   object \n",
      " 4   Income               2216 non-null   float64\n",
      " 5   Kidhome              2240 non-null   int64  \n",
      " 6   Teenhome             2240 non-null   int64  \n",
      " 7   Dt_Customer          2240 non-null   object \n",
      " 8   Recency              2240 non-null   int64  \n",
      " 9   MntWines             2240 non-null   int64  \n",
      " 10  MntFruits            2240 non-null   int64  \n",
      " 11  MntMeatProducts      2240 non-null   int64  \n",
      " 12  MntFishProducts      2240 non-null   int64  \n",
      " 13  MntSweetProducts     2240 non-null   int64  \n",
      " 14  MntGoldProds         2240 non-null   int64  \n",
      " 15  NumDealsPurchases    2240 non-null   int64  \n",
      " 16  NumWebPurchases      2240 non-null   int64  \n",
      " 17  NumCatalogPurchases  2240 non-null   int64  \n",
      " 18  NumStorePurchases    2240 non-null   int64  \n",
      " 19  NumWebVisitsMonth    2240 non-null   int64  \n",
      " 20  AcceptedCmp3         2240 non-null   int64  \n",
      " 21  AcceptedCmp4         2240 non-null   int64  \n",
      " 22  AcceptedCmp5         2240 non-null   int64  \n",
      " 23  AcceptedCmp1         2240 non-null   int64  \n",
      " 24  AcceptedCmp2         2240 non-null   int64  \n",
      " 25  Complain             2240 non-null   int64  \n",
      " 26  Z_CostContact        2240 non-null   int64  \n",
      " 27  Z_Revenue            2240 non-null   int64  \n",
      " 28  Response             2240 non-null   int64  \n",
      "dtypes: float64(1), int64(25), object(3)\n",
      "memory usage: 507.6+ KB\n"
     ]
    }
   ],
   "source": [
    "df2.info()"
   ]
  },
  {
   "cell_type": "code",
   "execution_count": 616,
   "metadata": {
    "id": "3Ytly7tndGwU"
   },
   "outputs": [],
   "source": [
    "df2['Dt_Customer'] = pd.to_datetime(df2['Dt_Customer'])\n",
    "df2['Dt_Customer'] = df2['Dt_Customer'].astype('int64')\n",
    "avgInc = df2['Income'].mean()\n",
    "df2['Income'].fillna(avgInc, inplace=True)\n",
    "df2['Teenhome'] = df2['Teenhome'].map(lambda x : 1 if (x >= 1) else 0)"
   ]
  },
  {
   "cell_type": "code",
   "execution_count": 617,
   "metadata": {
    "id": "IDPiqRP8dx7h"
   },
   "outputs": [
    {
     "name": "stdout",
     "output_type": "stream",
     "text": [
      "<class 'pandas.core.frame.DataFrame'>\n",
      "RangeIndex: 2240 entries, 0 to 2239\n",
      "Data columns (total 29 columns):\n",
      " #   Column               Non-Null Count  Dtype  \n",
      "---  ------               --------------  -----  \n",
      " 0   ID                   2240 non-null   int64  \n",
      " 1   Year_Birth           2240 non-null   int64  \n",
      " 2   Education            2240 non-null   object \n",
      " 3   Marital_Status       2240 non-null   object \n",
      " 4   Income               2240 non-null   float64\n",
      " 5   Kidhome              2240 non-null   int64  \n",
      " 6   Teenhome             2240 non-null   int64  \n",
      " 7   Dt_Customer          2240 non-null   int64  \n",
      " 8   Recency              2240 non-null   int64  \n",
      " 9   MntWines             2240 non-null   int64  \n",
      " 10  MntFruits            2240 non-null   int64  \n",
      " 11  MntMeatProducts      2240 non-null   int64  \n",
      " 12  MntFishProducts      2240 non-null   int64  \n",
      " 13  MntSweetProducts     2240 non-null   int64  \n",
      " 14  MntGoldProds         2240 non-null   int64  \n",
      " 15  NumDealsPurchases    2240 non-null   int64  \n",
      " 16  NumWebPurchases      2240 non-null   int64  \n",
      " 17  NumCatalogPurchases  2240 non-null   int64  \n",
      " 18  NumStorePurchases    2240 non-null   int64  \n",
      " 19  NumWebVisitsMonth    2240 non-null   int64  \n",
      " 20  AcceptedCmp3         2240 non-null   int64  \n",
      " 21  AcceptedCmp4         2240 non-null   int64  \n",
      " 22  AcceptedCmp5         2240 non-null   int64  \n",
      " 23  AcceptedCmp1         2240 non-null   int64  \n",
      " 24  AcceptedCmp2         2240 non-null   int64  \n",
      " 25  Complain             2240 non-null   int64  \n",
      " 26  Z_CostContact        2240 non-null   int64  \n",
      " 27  Z_Revenue            2240 non-null   int64  \n",
      " 28  Response             2240 non-null   int64  \n",
      "dtypes: float64(1), int64(26), object(2)\n",
      "memory usage: 507.6+ KB\n"
     ]
    }
   ],
   "source": [
    "df2.info()"
   ]
  },
  {
   "cell_type": "code",
   "execution_count": 618,
   "metadata": {
    "id": "qFdA5JKBd88H"
   },
   "outputs": [],
   "source": [
    "X= df2.drop(['Teenhome'], axis=1)\n",
    "y= df2['Teenhome']"
   ]
  },
  {
   "cell_type": "code",
   "execution_count": 619,
   "metadata": {
    "id": "IReW2vF9eCKo"
   },
   "outputs": [],
   "source": [
    "X['Education'] = X['Education'].map(lambda x: 1 if x=='Basic' else (2 if x==\"Graduation\" else (3 if x==\"2n Cycle\" else( 4 if x==\"Master\" else 5)) ) )\n",
    "X.drop(['ID'], axis=1, inplace=True)\n",
    "X_numerical = X.drop(['Marital_Status'],axis=1)\n",
    "scaler = MinMaxScaler()\n",
    "X_num_scaled = scaler.fit_transform(X_numerical)\n",
    "X_num_sc=pd.DataFrame(X_num_scaled,columns=list(X_numerical.columns))\n",
    "X_scaled = pd.concat([X_num_sc,X[['Marital_Status']]],axis=1)\n",
    "n=0\n",
    "for i in X_scaled['Marital_Status']:\n",
    "    if i in ['Single','Divorced', 'Widow', 'Alone','Absurd', 'YOLO']:\n",
    "        X_scaled['Marital_Status'][n]=0\n",
    "    else:\n",
    "        X_scaled['Marital_Status'][n]=1\n",
    "    n=n+1\n",
    "X_scaled['Marital_Status'] = X_scaled['Marital_Status'].astype(int)\n"
   ]
  },
  {
   "cell_type": "code",
   "execution_count": 620,
   "metadata": {
    "id": "2ERFOLKag2Fy"
   },
   "outputs": [
    {
     "name": "stdout",
     "output_type": "stream",
     "text": [
      "<class 'pandas.core.frame.DataFrame'>\n",
      "RangeIndex: 2240 entries, 0 to 2239\n",
      "Data columns (total 27 columns):\n",
      " #   Column               Non-Null Count  Dtype  \n",
      "---  ------               --------------  -----  \n",
      " 0   Year_Birth           2240 non-null   float64\n",
      " 1   Education            2240 non-null   float64\n",
      " 2   Income               2240 non-null   float64\n",
      " 3   Kidhome              2240 non-null   float64\n",
      " 4   Dt_Customer          2240 non-null   float64\n",
      " 5   Recency              2240 non-null   float64\n",
      " 6   MntWines             2240 non-null   float64\n",
      " 7   MntFruits            2240 non-null   float64\n",
      " 8   MntMeatProducts      2240 non-null   float64\n",
      " 9   MntFishProducts      2240 non-null   float64\n",
      " 10  MntSweetProducts     2240 non-null   float64\n",
      " 11  MntGoldProds         2240 non-null   float64\n",
      " 12  NumDealsPurchases    2240 non-null   float64\n",
      " 13  NumWebPurchases      2240 non-null   float64\n",
      " 14  NumCatalogPurchases  2240 non-null   float64\n",
      " 15  NumStorePurchases    2240 non-null   float64\n",
      " 16  NumWebVisitsMonth    2240 non-null   float64\n",
      " 17  AcceptedCmp3         2240 non-null   float64\n",
      " 18  AcceptedCmp4         2240 non-null   float64\n",
      " 19  AcceptedCmp5         2240 non-null   float64\n",
      " 20  AcceptedCmp1         2240 non-null   float64\n",
      " 21  AcceptedCmp2         2240 non-null   float64\n",
      " 22  Complain             2240 non-null   float64\n",
      " 23  Z_CostContact        2240 non-null   float64\n",
      " 24  Z_Revenue            2240 non-null   float64\n",
      " 25  Response             2240 non-null   float64\n",
      " 26  Marital_Status       2240 non-null   int64  \n",
      "dtypes: float64(26), int64(1)\n",
      "memory usage: 472.6 KB\n"
     ]
    }
   ],
   "source": [
    "X_scaled.info()"
   ]
  },
  {
   "cell_type": "code",
   "execution_count": 621,
   "metadata": {
    "id": "J-ju6_wXg4lM"
   },
   "outputs": [],
   "source": [
    "X_train, X_test, y_train,y_test = train_test_split(X_scaled,y,test_size=0.3,random_state=42)"
   ]
  },
  {
   "cell_type": "code",
   "execution_count": 622,
   "metadata": {
    "id": "4pokBqskhXaH"
   },
   "outputs": [
    {
     "data": {
      "text/plain": [
       "['Year_Birth',\n",
       " 'Education',\n",
       " 'MntFruits',\n",
       " 'MntMeatProducts',\n",
       " 'MntFishProducts',\n",
       " 'MntSweetProducts',\n",
       " 'NumDealsPurchases',\n",
       " 'NumWebPurchases',\n",
       " 'NumCatalogPurchases',\n",
       " 'NumWebVisitsMonth',\n",
       " 'AcceptedCmp3',\n",
       " 'AcceptedCmp4',\n",
       " 'AcceptedCmp5',\n",
       " 'AcceptedCmp1',\n",
       " 'Response']"
      ]
     },
     "execution_count": 622,
     "metadata": {},
     "output_type": "execute_result"
    }
   ],
   "source": [
    "\n",
    "sel_cols = SelectKBest(chi2, k=15)\n",
    "sel_cols.fit(X_train, y_train)\n",
    "topk = list(X_train.columns[sel_cols.get_support()])\n",
    "topk"
   ]
  },
  {
   "cell_type": "code",
   "execution_count": 623,
   "metadata": {
    "id": "t1FSX2sxjxit"
   },
   "outputs": [],
   "source": [
    "X_train= X_train[topk]\n",
    "X_test = X_test[topk]"
   ]
  },
  {
   "cell_type": "code",
   "execution_count": 624,
   "metadata": {
    "id": "7mVBQVUelEqH"
   },
   "outputs": [],
   "source": [
    "smt = BorderlineSMOTE(random_state =42)\n",
    "X_t_skew = X_train\n",
    "y_t_skew = y_train\n",
    "X_t_bal, y_bal = smt.fit_resample(X_train,y_train)\n"
   ]
  },
  {
   "cell_type": "markdown",
   "metadata": {
    "id": "ZfN3147ItEnd"
   },
   "source": [
    "## Self_Training"
   ]
  },
  {
   "cell_type": "code",
   "execution_count": null,
   "metadata": {
    "id": "4sUFhPKCtEne"
   },
   "outputs": [],
   "source": []
  },
  {
   "cell_type": "markdown",
   "metadata": {
    "id": "zPYddAbHtEne"
   },
   "source": [
    "*Balanced* Dataset"
   ]
  },
  {
   "cell_type": "code",
   "execution_count": 109,
   "metadata": {
    "id": "AMAgF-wutEne"
   },
   "outputs": [],
   "source": [
    "#self training\n",
    "\n",
    "rfc = RandomForestClassifier(n_estimators=100, criterion =  'entropy', max_depth = 15, max_features = 'auto')\n",
    "stc = SelfTrainingClassifier(rfc)"
   ]
  },
  {
   "cell_type": "code",
   "execution_count": 110,
   "metadata": {
    "id": "jRTguhsptEnf"
   },
   "outputs": [
    {
     "name": "stdout",
     "output_type": "stream",
     "text": [
      "[[276  58]\n",
      " [ 33 305]]\n",
      "\n",
      "\n",
      "              precision    recall  f1-score   support\n",
      "\n",
      "           0       0.89      0.83      0.86       334\n",
      "           1       0.84      0.90      0.87       338\n",
      "\n",
      "    accuracy                           0.86       672\n",
      "   macro avg       0.87      0.86      0.86       672\n",
      "weighted avg       0.87      0.86      0.86       672\n",
      "\n",
      "0.8701854493580599\n"
     ]
    }
   ],
   "source": [
    "#fully_supervised\n",
    "rfc.fit(X_t_bal,y_bal)\n",
    "pred = rfc.predict(X_test)\n",
    "print(confusion_matrix(y_test,pred))\n",
    "print('\\n')\n",
    "print(classification_report(y_test,pred))\n",
    "f1 = f1_score(y_test,pred)\n",
    "print(f1)"
   ]
  },
  {
   "cell_type": "code",
   "execution_count": null,
   "metadata": {
    "id": "ansalxlXtEnf"
   },
   "outputs": [],
   "source": []
  },
  {
   "cell_type": "code",
   "execution_count": 446,
   "metadata": {
    "id": "a3XYV5IutEng"
   },
   "outputs": [
    {
     "name": "stdout",
     "output_type": "stream",
     "text": [
      "[1648, 1483, 1318, 824, 164, 82]\n"
     ]
    }
   ],
   "source": [
    "ls = [1,0.9,0.8,0.5,0.1,0.05]\n",
    "x = y_bal.shape[0]\n",
    "ratios = [int(i*x) for i in ls]\n",
    "print(ratios)"
   ]
  },
  {
   "cell_type": "markdown",
   "metadata": {
    "id": "KcuAlLkAtEng"
   },
   "source": [
    "Fitting and predicting"
   ]
  },
  {
   "cell_type": "code",
   "execution_count": 112,
   "metadata": {
    "id": "oH2o_BaatEnh"
   },
   "outputs": [
    {
     "name": "stdout",
     "output_type": "stream",
     "text": [
      "[0.8670520231213873, 0.866571018651363, 0.8712871287128714, 0.8579626972740316, 0.8414985590778098, 0.8330871491875923]\n",
      "Runtime for 95% unlabeled data:  1.8119405039979029\n"
     ]
    }
   ],
   "source": [
    "#fitting and caclulating f1 score for each percentage \n",
    "f1scores = []\n",
    "for n in ratios:\n",
    "  y_t = y_bal.copy()\n",
    "  y_t[n:] = -1\n",
    "  if (n==ratios[-1]):\n",
    "    start = timeit.default_timer()\n",
    "  stc = SelfTrainingClassifier(rfc)\n",
    "  stc.fit(X_t_bal,y_t)\n",
    "  if (n==ratios[-1]):\n",
    "    stop = timeit.default_timer()\n",
    "    time_for_95 = stop-start\n",
    "  pred = stc.predict(X_test)\n",
    "  f1scores.append(f1_score(y_test,pred))\n",
    "print(f1scores)\n",
    "print(\"Runtime for 95% unlabeled data: \",time_for_95)"
   ]
  },
  {
   "cell_type": "code",
   "execution_count": 113,
   "metadata": {
    "id": "zRH7F9vmtEnh"
   },
   "outputs": [],
   "source": [
    "l = [0,10,20,50,90,95]\n",
    "\n",
    "# f1scores.insert(0,f1)\n"
   ]
  },
  {
   "cell_type": "code",
   "execution_count": 114,
   "metadata": {
    "id": "R8X2BiAltEnh"
   },
   "outputs": [
    {
     "data": {
      "image/png": "[encoded data removed]",
      "text/plain": [
       "<Figure size 800x320 with 1 Axes>"
      ]
     },
     "metadata": {
      "needs_background": "light"
     },
     "output_type": "display_data"
    }
   ],
   "source": [
    "\n",
    "\n",
    "figure(figsize=(10, 4), dpi=80)    \n",
    "\n",
    "plt.xlabel(\"% of unlabeled data\")\n",
    "plt.ylabel(\"F1_score\")\n",
    "plt.title('D2-Balanced Dataset-Self_training')\n",
    "for x,y in zip(l,f1scores):\n",
    "\n",
    "    label = \"{:.4f}\".format(y)\n",
    "\n",
    "    plt.annotate(label, # this is the text\n",
    "                 (x,y), # these are the coordinates to position the label\n",
    "                 textcoords=\"offset points\", # how to position the text\n",
    "                 xytext=(0,10), # distance from text to points (x,y)\n",
    "                 ha='center') # horizontal alignment can be left, right or center\n",
    "plt.grid(which='major', alpha=0.5)\n",
    "plt.plot(l,f1scores,marker=\"o\")\n",
    "plt.show()"
   ]
  },
  {
   "cell_type": "code",
   "execution_count": 115,
   "metadata": {
    "id": "pQxBZ7ICtEni"
   },
   "outputs": [
    {
     "name": "stdout",
     "output_type": "stream",
     "text": [
      "The % of unlabeled data with maximum f1 score:  20\n"
     ]
    }
   ],
   "source": [
    "maxf1 = max(f1scores)\n",
    "maxindex = f1scores.index(maxf1)\n",
    "maxpercent=l[maxindex]\n",
    "print(\"The % of unlabeled data with maximum f1 score: \", maxpercent)"
   ]
  },
  {
   "cell_type": "markdown",
   "metadata": {
    "id": "JVCyYNnxtEni"
   },
   "source": [
    "ROC Plotting"
   ]
  },
  {
   "cell_type": "code",
   "execution_count": 116,
   "metadata": {
    "id": "5rmxujIatEnj"
   },
   "outputs": [
    {
     "data": {
      "image/png": "[encoded data removed]",
      "text/plain": [
       "<Figure size 432x288 with 1 Axes>"
      ]
     },
     "metadata": {
      "needs_background": "light"
     },
     "output_type": "display_data"
    }
   ],
   "source": [
    "y_score = stc.predict_proba(X_test)[:,1]\n",
    "y_score[np.isnan(y_score)] = 0.5\n",
    "fpr, tpr, thresholds = metrics.roc_curve(y_test, y_score)\n",
    "roc_auc = metrics.auc(fpr, tpr)\n",
    "plt.title('D2-Balanced-Self_training - 95% Unlabeled')\n",
    "plt.plot(fpr, tpr, 'b', label = 'AUC = %0.4f' % roc_auc)\n",
    "plt.legend(loc = 'lower right')\n",
    "# plt.plot([0, 1], [0, 1])\n",
    "plt.xlim([0, 1])\n",
    "plt.ylim([0, 1])\n",
    "plt.ylabel('True Positive Rate')\n",
    "plt.xlabel('False Positive Rate')\n",
    "plt.show()\n"
   ]
  },
  {
   "cell_type": "code",
   "execution_count": 117,
   "metadata": {
    "id": "WVDkNuiutEnj"
   },
   "outputs": [],
   "source": [
    "#since in real life scenario labeled data would be very low thus would be taking the sample with 5% labeled data as the main one\n",
    "d2S_t_bal = f1scores[-1]\n",
    "# D2_bal.append(S_t_bal)"
   ]
  },
  {
   "cell_type": "markdown",
   "metadata": {
    "id": "muOinl7RtEnk"
   },
   "source": [
    "Skewed Dataset"
   ]
  },
  {
   "cell_type": "code",
   "execution_count": 118,
   "metadata": {
    "id": "pWWj1GeFtEnk"
   },
   "outputs": [
    {
     "name": "stdout",
     "output_type": "stream",
     "text": [
      "[[279  55]\n",
      " [ 37 301]]\n",
      "\n",
      "\n",
      "              precision    recall  f1-score   support\n",
      "\n",
      "           0       0.88      0.84      0.86       334\n",
      "           1       0.85      0.89      0.87       338\n",
      "\n",
      "    accuracy                           0.86       672\n",
      "   macro avg       0.86      0.86      0.86       672\n",
      "weighted avg       0.86      0.86      0.86       672\n",
      "\n",
      "0.8674351585014409\n"
     ]
    }
   ],
   "source": [
    "#fully_supervised\n",
    "rfc.fit(X_t_skew,y_t_skew)\n",
    "pred = rfc.predict(X_test)\n",
    "\n",
    "print(confusion_matrix(y_test,pred))\n",
    "print('\\n')\n",
    "print(classification_report(y_test,pred))\n",
    "f1 = f1_score(y_test,pred)\n",
    "print(f1)"
   ]
  },
  {
   "cell_type": "code",
   "execution_count": 119,
   "metadata": {
    "id": "e276drKItEnl"
   },
   "outputs": [
    {
     "name": "stdout",
     "output_type": "stream",
     "text": [
      "[1568, 1411, 1254, 784, 156, 78]\n"
     ]
    }
   ],
   "source": [
    "ls = [1,0.9,0.8,0.5,0.1,0.05]\n",
    "x = y_t_skew.shape[0]\n",
    "ratios = [int(i*x) for i in ls]\n",
    "print(ratios)"
   ]
  },
  {
   "cell_type": "markdown",
   "metadata": {
    "id": "v8JE6Qh6tEnl"
   },
   "source": [
    "Fitting and Predicting"
   ]
  },
  {
   "cell_type": "code",
   "execution_count": 120,
   "metadata": {
    "id": "UK9Is5MctEnl"
   },
   "outputs": [
    {
     "name": "stdout",
     "output_type": "stream",
     "text": [
      "[0.8706896551724138, 0.867816091954023, 0.8731988472622478, 0.8563218390804598, 0.8256333830104321, 0.8275862068965516]\n",
      "Runtime for 95% unlabeled data:  1.7373154859960778\n"
     ]
    }
   ],
   "source": [
    "f1scores = []\n",
    "for n in ratios:\n",
    "  y_t = y_t_skew.copy()\n",
    "  y_t[n:] = -1\n",
    "  if (n==ratios[-1]):\n",
    "    start = timeit.default_timer()\n",
    "  stc = SelfTrainingClassifier(rfc)\n",
    "  stc.fit(X_t_skew,y_t)\n",
    "  if (n==ratios[-1]):\n",
    "    stop = timeit.default_timer()\n",
    "    time_for_95 = stop-start\n",
    "  pred = stc.predict(X_test)\n",
    "  f1scores.append(f1_score(y_test,pred))\n",
    "print(f1scores)\n",
    "print(\"Runtime for 95% unlabeled data: \",time_for_95)"
   ]
  },
  {
   "cell_type": "code",
   "execution_count": 121,
   "metadata": {
    "id": "-dyuHE6ktEnm"
   },
   "outputs": [],
   "source": [
    "l = [0,10,20,50,90,95]\n",
    "\n",
    "# f1scores.insert(0,f1)\n"
   ]
  },
  {
   "cell_type": "code",
   "execution_count": 122,
   "metadata": {
    "id": "8OIytaFZtEnm"
   },
   "outputs": [
    {
     "data": {
      "image/png": "[encoded data removed]",
      "text/plain": [
       "<Figure size 800x320 with 1 Axes>"
      ]
     },
     "metadata": {
      "needs_background": "light"
     },
     "output_type": "display_data"
    }
   ],
   "source": [
    "\n",
    "\n",
    "figure(figsize=(10, 4), dpi=80)    \n",
    "\n",
    "plt.xlabel(\"% of unlabeled data\")\n",
    "plt.ylabel(\"F1_score\")\n",
    "plt.title('D2-Skewed Dataset-Self_training')\n",
    "for x,y in zip(l,f1scores):\n",
    "\n",
    "    label = \"{:.4f}\".format(y)\n",
    "\n",
    "    plt.annotate(label, # this is the text\n",
    "                 (x,y), # these are the coordinates to position the label\n",
    "                 textcoords=\"offset points\", # how to position the text\n",
    "                 xytext=(0,10), # distance from text to points (x,y)\n",
    "                 ha='center') # horizontal alignment can be left, right or center\n",
    "plt.grid(which='major', alpha=0.5)\n",
    "plt.plot(l,f1scores,marker=\"o\")\n",
    "plt.show()"
   ]
  },
  {
   "cell_type": "code",
   "execution_count": 123,
   "metadata": {
    "id": "8apqDs-WtEnn"
   },
   "outputs": [
    {
     "name": "stdout",
     "output_type": "stream",
     "text": [
      "The % of unlabeled data with maximum f1 score:  20\n"
     ]
    }
   ],
   "source": [
    "maxf1 = max(f1scores)\n",
    "maxindex = f1scores.index(maxf1)\n",
    "maxpercent=l[maxindex]\n",
    "print(\"The % of unlabeled data with maximum f1 score: \", maxpercent)"
   ]
  },
  {
   "cell_type": "markdown",
   "metadata": {
    "id": "457xJN2FtEnn"
   },
   "source": [
    "ROC Plotting"
   ]
  },
  {
   "cell_type": "code",
   "execution_count": 124,
   "metadata": {
    "id": "KBHI7qLXtEno"
   },
   "outputs": [
    {
     "data": {
      "image/png": "[encoded data removed]",
      "text/plain": [
       "<Figure size 432x288 with 1 Axes>"
      ]
     },
     "metadata": {
      "needs_background": "light"
     },
     "output_type": "display_data"
    }
   ],
   "source": [
    "y_score = stc.predict_proba(X_test)[:,1]\n",
    "y_score[np.isnan(y_score)] = 0.5\n",
    "fpr, tpr, thresholds = metrics.roc_curve(y_test, y_score)\n",
    "roc_auc = metrics.auc(fpr, tpr)\n",
    "plt.title('D2-Skewed-Self_training - 95% Unlabeled')\n",
    "plt.plot(fpr, tpr, 'b', label = 'AUC = %0.4f' % roc_auc)\n",
    "plt.legend(loc = 'lower right')\n",
    "# plt.plot([0, 1], [0, 1])\n",
    "plt.xlim([0, 1])\n",
    "plt.ylim([0, 1])\n",
    "plt.ylabel('True Positive Rate')\n",
    "plt.xlabel('False Positive Rate')\n",
    "plt.show()\n"
   ]
  },
  {
   "cell_type": "code",
   "execution_count": 125,
   "metadata": {
    "id": "YJrcti0StEno"
   },
   "outputs": [],
   "source": [
    "#since in real life scenario labeled data would be very low thus would be taking the sample with 5% labeled data as the main one\n",
    "d2S_t_skew = f1scores[-1]\n",
    "# D2_skw.append(S_t_skew)"
   ]
  },
  {
   "cell_type": "code",
   "execution_count": 126,
   "metadata": {
    "id": "nIjy279-tEnp"
   },
   "outputs": [],
   "source": [
    "# S_t = max(S_t_skew,S_t_bal)"
   ]
  },
  {
   "cell_type": "code",
   "execution_count": null,
   "metadata": {
    "id": "aKwmAOdGtEnp"
   },
   "outputs": [],
   "source": []
  },
  {
   "cell_type": "markdown",
   "metadata": {
    "id": "DiIXl4cPtEnp"
   },
   "source": [
    "## Semi-Ensemble"
   ]
  },
  {
   "cell_type": "markdown",
   "metadata": {
    "id": "Z39zVjBPtEnp"
   },
   "source": [
    "Balanced Data"
   ]
  },
  {
   "cell_type": "code",
   "execution_count": 127,
   "metadata": {
    "id": "g-7LQHb_tEnq"
   },
   "outputs": [
    {
     "name": "stdout",
     "output_type": "stream",
     "text": [
      "[1648, 1483, 1318, 824, 164, 82]\n"
     ]
    }
   ],
   "source": [
    "ls = [1,0.9,0.8,0.5,0.1,0.05]\n",
    "x = y_bal.shape[0]\n",
    "ratios = [int(i*x) for i in ls]\n",
    "print(ratios)"
   ]
  },
  {
   "cell_type": "code",
   "execution_count": 128,
   "metadata": {
    "id": "6qTDh8L3tEnq"
   },
   "outputs": [],
   "source": [
    "import warnings\n",
    "warnings.filterwarnings(\"ignore\")"
   ]
  },
  {
   "cell_type": "code",
   "execution_count": 129,
   "metadata": {
    "id": "3VEnNOTZtEnr"
   },
   "outputs": [
    {
     "name": "stdout",
     "output_type": "stream",
     "text": [
      "Knnfitted\n",
      "svmfitted\n",
      "dtreefitted\n",
      "rfcitted\n",
      "mlpfitted\n",
      "gbcfitted\n",
      "0.8653295128939829\n",
      "Knnfitted\n",
      "svmfitted\n",
      "dtreefitted\n",
      "rfcitted\n",
      "mlpfitted\n",
      "gbcfitted\n",
      "0.8538011695906432\n",
      "Knnfitted\n",
      "svmfitted\n",
      "dtreefitted\n",
      "rfcitted\n",
      "mlpfitted\n",
      "gbcfitted\n",
      "0.8690647482014388\n",
      "Knnfitted\n",
      "svmfitted\n",
      "dtreefitted\n",
      "rfcitted\n",
      "mlpfitted\n",
      "gbcfitted\n",
      "0.8587896253602305\n",
      "Knnfitted\n",
      "svmfitted\n",
      "dtreefitted\n",
      "rfcitted\n",
      "mlpfitted\n",
      "gbcfitted\n",
      "0.8419540229885057\n",
      "Knnfitted\n",
      "svmfitted\n",
      "dtreefitted\n",
      "rfcitted\n",
      "mlpfitted\n",
      "gbcfitted\n",
      "0.8216833095577747\n",
      "[0.8653295128939829, 0.8538011695906432, 0.8690647482014388, 0.8587896253602305, 0.8419540229885057, 0.8216833095577747]\n",
      "Runtime for 95% unlabeled data:  8.905284473999927\n"
     ]
    }
   ],
   "source": [
    "#fitting and predicting\n",
    "f1scores = []\n",
    "for n in ratios:\n",
    "  y_t = y_bal.copy()\n",
    "  y_t[n:] = -1\n",
    "  if (n==ratios[-1]):\n",
    "    start = timeit.default_timer()\n",
    "  ens= ashishsemiensemble()\n",
    "  ens.fit(X_t_bal,y_t)\n",
    "  if (n==ratios[-1]):\n",
    "    stop = timeit.default_timer()\n",
    "    time_for_95 = stop-start\n",
    "  pred = ens.predict(X_test)\n",
    "  f1scores.append(f1_score(y_test,pred))\n",
    "  print(f1_score(y_test,pred))\n",
    "print(f1scores)\n",
    "print(\"Runtime for 95% unlabeled data: \",time_for_95)"
   ]
  },
  {
   "cell_type": "code",
   "execution_count": 130,
   "metadata": {
    "id": "-Ae0yPKrtEnr"
   },
   "outputs": [],
   "source": [
    "l = [0,10,20,50,90,95]"
   ]
  },
  {
   "cell_type": "markdown",
   "metadata": {
    "id": "X9T1NN3PtEns"
   },
   "source": [
    "F-1 score with % unlabeled Data"
   ]
  },
  {
   "cell_type": "code",
   "execution_count": 131,
   "metadata": {
    "id": "VUPrvKcGtEns"
   },
   "outputs": [
    {
     "data": {
      "image/png": "[encoded data removed]",
      "text/plain": [
       "<Figure size 800x320 with 1 Axes>"
      ]
     },
     "metadata": {
      "needs_background": "light"
     },
     "output_type": "display_data"
    }
   ],
   "source": [
    "figure(figsize=(10, 4), dpi=80)    \n",
    "\n",
    "plt.xlabel(\"% of unlabeled data\")\n",
    "plt.ylabel(\"F1_score\")\n",
    "plt.title('D2 - Balanced Dataset:Semi-Ensemble')\n",
    "for x,y in zip(l,f1scores):\n",
    "\n",
    "    label = \"{:.4f}\".format(y)\n",
    "\n",
    "    plt.annotate(label, # this is the text\n",
    "                 (x,y), # these are the coordinates to position the label\n",
    "                 textcoords=\"offset points\", # how to position the text\n",
    "                 xytext=(0,10), # distance from text to points (x,y)\n",
    "                 ha='center') # horizontal alignment can be left, right or center\n",
    "plt.grid(which='major', alpha=0.5)\n",
    "plt.plot(l,f1scores,marker=\"o\")\n",
    "plt.show()"
   ]
  },
  {
   "cell_type": "code",
   "execution_count": 132,
   "metadata": {
    "id": "gpghH8S2tEns"
   },
   "outputs": [
    {
     "name": "stdout",
     "output_type": "stream",
     "text": [
      "The % of unlabeled data with maximum f1 score:  20\n"
     ]
    }
   ],
   "source": [
    "maxf1 = max(f1scores)\n",
    "maxindex = f1scores.index(maxf1)\n",
    "maxpercent=l[maxindex]\n",
    "print(\"The % of unlabeled data with maximum f1 score: \", maxpercent)"
   ]
  },
  {
   "cell_type": "code",
   "execution_count": null,
   "metadata": {
    "id": "7ctyxvsStEnt"
   },
   "outputs": [],
   "source": []
  },
  {
   "cell_type": "code",
   "execution_count": null,
   "metadata": {
    "id": "Ws8NXvk7tEnx"
   },
   "outputs": [],
   "source": [
    " "
   ]
  },
  {
   "cell_type": "markdown",
   "metadata": {
    "id": "9Nr-x3TetEny"
   },
   "source": [
    "ROC Plotting"
   ]
  },
  {
   "cell_type": "code",
   "execution_count": 133,
   "metadata": {
    "id": "_3Y8Cd9QtEny"
   },
   "outputs": [
    {
     "data": {
      "image/png": "[encoded data removed]",
      "text/plain": [
       "<Figure size 432x288 with 1 Axes>"
      ]
     },
     "metadata": {
      "needs_background": "light"
     },
     "output_type": "display_data"
    }
   ],
   "source": [
    "y_score = ens.predict_proba(X_test)[:,1]\n",
    "y_score[np.isnan(y_score)] = 0.5\n",
    "fpr, tpr, thresholds = metrics.roc_curve(y_test, y_score)\n",
    "roc_auc = metrics.auc(fpr, tpr)\n",
    "plt.title('D2-Balanced-Semi-Ensemble 95% Unlabeled')\n",
    "plt.plot(fpr, tpr, 'b', label = 'AUC = %0.4f' % roc_auc)\n",
    "plt.legend(loc = 'lower right')\n",
    "# plt.plot([0, 1], [0, 1])\n",
    "plt.xlim([0, 1])\n",
    "plt.ylim([0, 1])\n",
    "plt.ylabel('True Positive Rate')\n",
    "plt.xlabel('False Positive Rate')\n",
    "plt.show()\n"
   ]
  },
  {
   "cell_type": "code",
   "execution_count": 134,
   "metadata": {
    "id": "MEc4SyZ3tEnz"
   },
   "outputs": [],
   "source": [
    "d2ens_bal = f1scores[-1]\n",
    "# D2_bal.append(ens_bal)"
   ]
  },
  {
   "cell_type": "markdown",
   "metadata": {
    "id": "yXX9Z3zztEnz"
   },
   "source": [
    "Skewed Dataset"
   ]
  },
  {
   "cell_type": "code",
   "execution_count": 135,
   "metadata": {
    "id": "19lLJgQstEnz"
   },
   "outputs": [
    {
     "name": "stdout",
     "output_type": "stream",
     "text": [
      "[1568, 1411, 1254, 784, 156, 78]\n"
     ]
    }
   ],
   "source": [
    "ls = [1,0.9,0.8,0.5,0.1,0.05]\n",
    "x = y_t_skew.shape[0]\n",
    "ratios = [int(i*x) for i in ls]\n",
    "print(ratios)"
   ]
  },
  {
   "cell_type": "code",
   "execution_count": 136,
   "metadata": {
    "id": "0G5nE4kLtEn0"
   },
   "outputs": [
    {
     "name": "stdout",
     "output_type": "stream",
     "text": [
      "Knnfitted\n",
      "svmfitted\n",
      "dtreefitted\n",
      "rfcitted\n",
      "mlpfitted\n",
      "gbcfitted\n",
      "0.8571428571428573\n",
      "Knnfitted\n",
      "svmfitted\n",
      "dtreefitted\n",
      "rfcitted\n",
      "mlpfitted\n",
      "gbcfitted\n",
      "0.8658892128279883\n",
      "Knnfitted\n",
      "svmfitted\n",
      "dtreefitted\n",
      "rfcitted\n",
      "mlpfitted\n",
      "gbcfitted\n",
      "0.8530259365994237\n",
      "Knnfitted\n",
      "svmfitted\n",
      "dtreefitted\n",
      "rfcitted\n",
      "mlpfitted\n",
      "gbcfitted\n",
      "0.8496350364963503\n",
      "Knnfitted\n",
      "svmfitted\n",
      "dtreefitted\n",
      "rfcitted\n",
      "mlpfitted\n",
      "gbcfitted\n",
      "0.828080229226361\n",
      "Knnfitted\n",
      "svmfitted\n",
      "dtreefitted\n",
      "rfcitted\n",
      "mlpfitted\n",
      "gbcfitted\n",
      "0.8309037900874634\n",
      "[0.8571428571428573, 0.8658892128279883, 0.8530259365994237, 0.8496350364963503, 0.828080229226361, 0.8309037900874634]\n",
      "Runtime for 95% unlabeled data:  5.134727552998811\n"
     ]
    }
   ],
   "source": [
    "f1scores = []\n",
    "for n in ratios:\n",
    "  y_t = y_t_skew.copy()\n",
    "  y_t[n:] = -1\n",
    "  if (n==ratios[-1]):\n",
    "    start = timeit.default_timer()\n",
    "  ens= ashishsemiensemble()\n",
    "  ens.fit(X_t_skew,y_t)\n",
    "  if (n==ratios[-1]):\n",
    "    stop = timeit.default_timer()\n",
    "    time_for_95 = stop-start\n",
    "  pred = ens.predict(X_test)\n",
    "  f1scores.append(f1_score(y_test,pred))\n",
    "  print(f1_score(y_test,pred))\n",
    "print(f1scores)\n",
    "print(\"Runtime for 95% unlabeled data: \",time_for_95)"
   ]
  },
  {
   "cell_type": "code",
   "execution_count": 137,
   "metadata": {
    "id": "aCifRZ17tEn0"
   },
   "outputs": [
    {
     "data": {
      "image/png": "[encoded data removed]",
      "text/plain": [
       "<Figure size 800x320 with 1 Axes>"
      ]
     },
     "metadata": {
      "needs_background": "light"
     },
     "output_type": "display_data"
    }
   ],
   "source": [
    "figure(figsize=(10, 4), dpi=80)    \n",
    "\n",
    "plt.xlabel(\"% of unlabeled data\")\n",
    "plt.ylabel(\"F1_score\")\n",
    "plt.title('D2 -Skewed Dataset: Semi-Ensemble:')\n",
    "for x,y in zip(l,f1scores):\n",
    "\n",
    "    label = \"{:.4f}\".format(y)\n",
    "\n",
    "    plt.annotate(label, # this is the text\n",
    "                 (x,y), # these are the coordinates to position the label\n",
    "                 textcoords=\"offset points\", # how to position the text\n",
    "                 xytext=(0,10), # distance from text to points (x,y)\n",
    "                 ha='center') # horizontal alignment can be left, right or center\n",
    "plt.grid(which='major', alpha=0.5)\n",
    "plt.plot(l,f1scores,marker=\"o\")\n",
    "plt.show()"
   ]
  },
  {
   "cell_type": "code",
   "execution_count": 138,
   "metadata": {
    "id": "DhbvJjgJtEn1"
   },
   "outputs": [
    {
     "name": "stdout",
     "output_type": "stream",
     "text": [
      "The % of unlabeled data with maximum f1 score:  10\n"
     ]
    }
   ],
   "source": [
    "maxf1 = max(f1scores)\n",
    "maxindex = f1scores.index(maxf1)\n",
    "maxpercent=l[maxindex]\n",
    "print(\"The % of unlabeled data with maximum f1 score: \", maxpercent)"
   ]
  },
  {
   "cell_type": "markdown",
   "metadata": {
    "id": "1rx5hNWztEn1"
   },
   "source": [
    "ROC Plotting"
   ]
  },
  {
   "cell_type": "code",
   "execution_count": 139,
   "metadata": {
    "id": "M00GlBFDtEn1"
   },
   "outputs": [
    {
     "data": {
      "image/png": "[encoded data removed]",
      "text/plain": [
       "<Figure size 432x288 with 1 Axes>"
      ]
     },
     "metadata": {
      "needs_background": "light"
     },
     "output_type": "display_data"
    }
   ],
   "source": [
    "y_score = ens.predict_proba(X_test)[:,1]\n",
    "y_score[np.isnan(y_score)] = 0.5\n",
    "fpr, tpr, thresholds = metrics.roc_curve(y_test, y_score)\n",
    "roc_auc = metrics.auc(fpr, tpr)\n",
    "plt.title('D2-Skewed-Semi-Ensemble 95% Unlabeled')\n",
    "plt.plot(fpr, tpr, 'b', label = 'AUC = %0.4f' % roc_auc)\n",
    "plt.legend(loc = 'lower right')\n",
    "# plt.plot([0, 1], [0, 1])\n",
    "plt.xlim([0, 1])\n",
    "plt.ylim([0, 1])\n",
    "plt.ylabel('True Positive Rate')\n",
    "plt.xlabel('False Positive Rate')\n",
    "plt.show()\n"
   ]
  },
  {
   "cell_type": "code",
   "execution_count": 140,
   "metadata": {
    "id": "vJ4F_6NXtEn2"
   },
   "outputs": [],
   "source": [
    "d2ens_skew = f1scores[-1]\n",
    "# D2_skw.append(ens_skew)"
   ]
  },
  {
   "cell_type": "markdown",
   "metadata": {
    "id": "axeTArootEn2"
   },
   "source": [
    "## Gausian Mixture Clustering and Random Forest"
   ]
  },
  {
   "cell_type": "markdown",
   "metadata": {
    "id": "yQiQrQ1UtEn2"
   },
   "source": [
    "Balanced Data"
   ]
  },
  {
   "cell_type": "code",
   "execution_count": 625,
   "metadata": {
    "id": "dKPcd2yatEn2"
   },
   "outputs": [
    {
     "name": "stdout",
     "output_type": "stream",
     "text": [
      "[1648, 1483, 1318, 824, 164, 82]\n"
     ]
    }
   ],
   "source": [
    "ls = [1,0.9,0.8,0.5,0.1,0.05]\n",
    "x = y_bal.shape[0]\n",
    "ratios = [int(i*x) for i in ls]\n",
    "print(ratios)"
   ]
  },
  {
   "cell_type": "code",
   "execution_count": 626,
   "metadata": {
    "id": "Kzoag1qrtEn3"
   },
   "outputs": [],
   "source": [
    "import warnings\n",
    "warnings.filterwarnings(\"ignore\")"
   ]
  },
  {
   "cell_type": "code",
   "execution_count": 627,
   "metadata": {
    "id": "R0zUy4ratEn3"
   },
   "outputs": [
    {
     "name": "stdout",
     "output_type": "stream",
     "text": [
      "0.8673323823109843\n",
      "0.8416289592760181\n",
      "0.8228043143297381\n",
      "0.3178807947019868\n",
      "0.178343949044586\n",
      "0.17721518987341772\n",
      "[0.8673323823109843, 0.8416289592760181, 0.8228043143297381, 0.3178807947019868, 0.178343949044586, 0.17721518987341772]\n",
      "Runtime for 95% unlabeled data:  0.38887437200173736\n"
     ]
    }
   ],
   "source": [
    "f1scores = []\n",
    "for n in ratios:\n",
    "    y_t = y_bal.copy()\n",
    "    y_t[n:] = -1\n",
    "    if (n==ratios[-1]):\n",
    "        start = timeit.default_timer()\n",
    "    lbp= gausandrf()\n",
    "    lbp.fit(X_t_bal,y_t)\n",
    "    if (n==ratios[-1]):\n",
    "        stop = timeit.default_timer()\n",
    "        time_for_95 = stop-start\n",
    "    pred = lbp.predict(X_test)\n",
    "    f1scores.append(f1_score(y_test,pred))\n",
    "    print(f1_score(y_test,pred))\n",
    "print(f1scores)\n",
    "print(\"Runtime for 95% unlabeled data: \",time_for_95)"
   ]
  },
  {
   "cell_type": "code",
   "execution_count": 628,
   "metadata": {
    "id": "dDZ4-GgOtEn3"
   },
   "outputs": [],
   "source": [
    "l = [0,10,20,50,90,95]"
   ]
  },
  {
   "cell_type": "code",
   "execution_count": 629,
   "metadata": {
    "id": "_BY1FObVtEn3"
   },
   "outputs": [
    {
     "data": {
      "image/png": "[encoded data removed]",
      "text/plain": [
       "<Figure size 800x320 with 1 Axes>"
      ]
     },
     "metadata": {
      "needs_background": "light"
     },
     "output_type": "display_data"
    }
   ],
   "source": [
    "figure(figsize=(10, 4), dpi=80)    \n",
    "\n",
    "plt.xlabel(\"% of unlabeled data\")\n",
    "plt.ylabel(\"F1_score\")\n",
    "plt.title('D2 Balanced Dataset- Gausian Mixture Clustering and Random Forest')\n",
    "for x,y in zip(l,f1scores):\n",
    "\n",
    "    label = \"{:.4f}\".format(y)\n",
    "\n",
    "    plt.annotate(label, \n",
    "                 (x,y), \n",
    "                 textcoords=\"offset points\", \n",
    "                 xytext=(0,10), \n",
    "                 ha='center') \n",
    "plt.grid(which='major', alpha=0.5)\n",
    "plt.plot(l,f1scores,marker=\"o\")\n",
    "plt.show()"
   ]
  },
  {
   "cell_type": "code",
   "execution_count": 630,
   "metadata": {
    "id": "cV3kKgOptEn4"
   },
   "outputs": [
    {
     "name": "stdout",
     "output_type": "stream",
     "text": [
      "The % of unlabeled data with maximum f1 score:  0\n"
     ]
    }
   ],
   "source": [
    "maxf1 = max(f1scores)\n",
    "maxindex = f1scores.index(maxf1)\n",
    "maxpercent=l[maxindex]\n",
    "print(\"The % of unlabeled data with maximum f1 score: \", maxpercent)"
   ]
  },
  {
   "cell_type": "code",
   "execution_count": null,
   "metadata": {
    "id": "iOrXm3QQtEn4"
   },
   "outputs": [],
   "source": []
  },
  {
   "cell_type": "code",
   "execution_count": 633,
   "metadata": {
    "id": "Ht0w3EVwtEn4"
   },
   "outputs": [
    {
     "data": {
      "image/png": "[encoded data removed]",
      "text/plain": [
       "<Figure size 432x288 with 1 Axes>"
      ]
     },
     "metadata": {
      "needs_background": "light"
     },
     "output_type": "display_data"
    }
   ],
   "source": [
    "y_score = lbp.predict_proba(X_test)[:,1]\n",
    "y_score[np.isnan(y_score)] = 0.5\n",
    "fpr, tpr, thresholds = metrics.roc_curve(y_test, y_score)\n",
    "roc_auc = metrics.auc(fpr, tpr)\n",
    "plt.title('D2 Balanced-Gausian Mixture Clustering and Random Forest 95% Unlabeled')\n",
    "plt.plot(fpr, tpr, 'b', label = 'AUC = %0.4f' % roc_auc)\n",
    "plt.legend(loc = 'lower right')\n",
    "# plt.plot([0, 1], [0, 1])\n",
    "plt.xlim([0, 1])\n",
    "plt.ylim([0, 1])\n",
    "plt.ylabel('True Positive Rate')\n",
    "plt.xlabel('False Positive Rate')\n",
    "plt.show()\n",
    "#  y_scorel.shape\n",
    "# metrics.plot_roc_curve(lbp, X_test, y_test,pos_label=1)\n"
   ]
  },
  {
   "cell_type": "code",
   "execution_count": 634,
   "metadata": {
    "id": "F28Ccic5tEn5"
   },
   "outputs": [],
   "source": [
    "d2lbp_bal = f1scores[-1]\n",
    "# D2_bal.append(lbp_bal)"
   ]
  },
  {
   "cell_type": "markdown",
   "metadata": {
    "id": "JMiQRT8ftEn5"
   },
   "source": [
    "Skewed Dataset"
   ]
  },
  {
   "cell_type": "code",
   "execution_count": 635,
   "metadata": {
    "id": "d37KMzpftEn5"
   },
   "outputs": [
    {
     "name": "stdout",
     "output_type": "stream",
     "text": [
      "[1568, 1411, 1254, 784, 156, 78]\n"
     ]
    }
   ],
   "source": [
    "ls = [1,0.9,0.8,0.5,0.1,0.05]\n",
    "x = y_t_skew.shape[0]\n",
    "ratios = [int(i*x) for i in ls]\n",
    "print(ratios)"
   ]
  },
  {
   "cell_type": "code",
   "execution_count": 636,
   "metadata": {
    "id": "M0hgRzNotEn5"
   },
   "outputs": [
    {
     "name": "stdout",
     "output_type": "stream",
     "text": [
      "0.8620689655172413\n",
      "0.8473053892215568\n",
      "0.823529411764706\n",
      "0.3231441048034935\n",
      "0.6788571428571428\n",
      "0.17721518987341772\n",
      "[0.8620689655172413, 0.8473053892215568, 0.823529411764706, 0.3231441048034935, 0.6788571428571428, 0.17721518987341772]\n",
      "Runtime for 95% unlabeled data:  0.3472336769918911\n"
     ]
    }
   ],
   "source": [
    "f1scores = []\n",
    "for n in ratios:\n",
    "    y_t = y_t_skew.copy()\n",
    "    y_t[n:] = -1\n",
    "    if (n==ratios[-1]):\n",
    "        start = timeit.default_timer()\n",
    "    lbp= gausandrf()\n",
    "    lbp.fit(X_t_skew,y_t)\n",
    "    if (n==ratios[-1]):\n",
    "        stop = timeit.default_timer()\n",
    "        time_for_95 = stop-start\n",
    "    pred = lbp.predict(X_test)\n",
    "    f1scores.append(f1_score(y_test,pred))\n",
    "    print(f1_score(y_test,pred))\n",
    "print(f1scores)\n",
    "print(\"Runtime for 95% unlabeled data: \",time_for_95)"
   ]
  },
  {
   "cell_type": "code",
   "execution_count": 638,
   "metadata": {
    "id": "-h7Q6WIutEn6"
   },
   "outputs": [
    {
     "data": {
      "image/png": "[encoded data removed]",
      "text/plain": [
       "<Figure size 800x320 with 1 Axes>"
      ]
     },
     "metadata": {
      "needs_background": "light"
     },
     "output_type": "display_data"
    }
   ],
   "source": [
    "figure(figsize=(10, 4), dpi=80)    \n",
    "\n",
    "plt.xlabel(\"% of unlabeled data\")\n",
    "plt.ylabel(\"F1_score\")\n",
    "plt.title('D2-Skewed Dataset: Gausian Mixture Clustering and Random Forest')\n",
    "for x,y in zip(l,f1scores):\n",
    "\n",
    "    label = \"{:.4f}\".format(y)\n",
    "\n",
    "    plt.annotate(label, # this is the text\n",
    "                 (x,y), # these are the coordinates to position the label\n",
    "                 textcoords=\"offset points\", # how to position the text\n",
    "                 xytext=(0,10), # distance from text to points (x,y)\n",
    "                 ha='center') # horizontal alignment can be left, right or center\n",
    "plt.grid(which='major', alpha=0.5)\n",
    "plt.plot(l,f1scores,marker=\"o\")\n",
    "plt.show()"
   ]
  },
  {
   "cell_type": "code",
   "execution_count": 639,
   "metadata": {
    "id": "wxHbn3DntEn6"
   },
   "outputs": [
    {
     "name": "stdout",
     "output_type": "stream",
     "text": [
      "The % of unlabeled data with maximum f1 score:  0\n"
     ]
    }
   ],
   "source": [
    "maxf1 = max(f1scores)\n",
    "maxindex = f1scores.index(maxf1)\n",
    "maxpercent=l[maxindex]\n",
    "print(\"The % of unlabeled data with maximum f1 score: \", maxpercent)"
   ]
  },
  {
   "cell_type": "code",
   "execution_count": null,
   "metadata": {
    "id": "PKaBHJwYtEn7"
   },
   "outputs": [],
   "source": []
  },
  {
   "cell_type": "markdown",
   "metadata": {
    "id": "7pCBUKGVtEn7"
   },
   "source": [
    "ROC Curve"
   ]
  },
  {
   "cell_type": "code",
   "execution_count": 641,
   "metadata": {
    "id": "yq9NCwSstEn7"
   },
   "outputs": [
    {
     "data": {
      "image/png": "[encoded data removed]",
      "text/plain": [
       "<Figure size 432x288 with 1 Axes>"
      ]
     },
     "metadata": {
      "needs_background": "light"
     },
     "output_type": "display_data"
    }
   ],
   "source": [
    "y_score = lbp.predict_proba(X_test)[:,1]\n",
    "y_score[np.isnan(y_score)] = 0.5\n",
    "fpr, tpr, thresholds = metrics.roc_curve(y_test, y_score)\n",
    "roc_auc = metrics.auc(fpr, tpr)\n",
    "plt.title('D2 Skewed-Gausian Mixture Clustering and Random Forest 95% Unlabeled')\n",
    "plt.plot(fpr, tpr, 'b', label = 'AUC = %0.4f' % roc_auc)\n",
    "plt.legend(loc = 'lower right')\n",
    "# plt.plot([0, 1], [0, 1])\n",
    "plt.xlim([0, 1])\n",
    "plt.ylim([0, 1])\n",
    "plt.ylabel('True Positive Rate')\n",
    "plt.xlabel('False Positive Rate')\n",
    "plt.show()\n",
    "#  y_scorel.shape\n",
    "# metrics.plot_roc_curve(lbp, X_test, y_test,pos_label=1)\n"
   ]
  },
  {
   "cell_type": "code",
   "execution_count": 642,
   "metadata": {
    "id": "CGE4AISRtEn8"
   },
   "outputs": [],
   "source": [
    "d2lbp_skew = f1scores[-1]\n",
    "# D2_skw.append(lbp_skew)"
   ]
  },
  {
   "cell_type": "code",
   "execution_count": null,
   "metadata": {
    "id": "2zpaUJ7TtEn8"
   },
   "outputs": [],
   "source": []
  },
  {
   "cell_type": "markdown",
   "metadata": {
    "id": "47Z5BW-ZnIRN"
   },
   "source": [
    "# Dataset 3-Heart Disease"
   ]
  },
  {
   "cell_type": "code",
   "execution_count": 643,
   "metadata": {
    "id": "litl4UMknMJM"
   },
   "outputs": [],
   "source": [
    "D3_bal=[]\n",
    "D3_skw=[]"
   ]
  },
  {
   "cell_type": "code",
   "execution_count": 644,
   "metadata": {
    "id": "IB-Mwvu-n6on"
   },
   "outputs": [],
   "source": [
    "df3 = pd.read_csv('https://raw.githubusercontent.com/ashishgeorge009/Assignment_2/master/heart.csv')"
   ]
  },
  {
   "cell_type": "code",
   "execution_count": 645,
   "metadata": {
    "id": "W5hNrZMjn6on"
   },
   "outputs": [
    {
     "name": "stdout",
     "output_type": "stream",
     "text": [
      "<class 'pandas.core.frame.DataFrame'>\n",
      "RangeIndex: 303 entries, 0 to 302\n",
      "Data columns (total 14 columns):\n",
      " #   Column    Non-Null Count  Dtype  \n",
      "---  ------    --------------  -----  \n",
      " 0   age       303 non-null    int64  \n",
      " 1   sex       303 non-null    int64  \n",
      " 2   cp        303 non-null    int64  \n",
      " 3   trestbps  303 non-null    int64  \n",
      " 4   chol      303 non-null    int64  \n",
      " 5   fbs       303 non-null    int64  \n",
      " 6   restecg   303 non-null    int64  \n",
      " 7   thalach   303 non-null    int64  \n",
      " 8   exang     303 non-null    int64  \n",
      " 9   oldpeak   303 non-null    float64\n",
      " 10  slope     303 non-null    int64  \n",
      " 11  ca        303 non-null    int64  \n",
      " 12  thal      303 non-null    int64  \n",
      " 13  target    303 non-null    int64  \n",
      "dtypes: float64(1), int64(13)\n",
      "memory usage: 33.3 KB\n"
     ]
    }
   ],
   "source": [
    "df3.info()"
   ]
  },
  {
   "cell_type": "code",
   "execution_count": 646,
   "metadata": {
    "id": "U_3NWAiWn6on"
   },
   "outputs": [],
   "source": [
    "X=df3.drop(['target'],axis=1)\n",
    "y=df3['target']"
   ]
  },
  {
   "cell_type": "code",
   "execution_count": 647,
   "metadata": {
    "cell_id": "00013-e627dcd7-02f5-46bf-8483-9dca5c0df41b",
    "deepnote_cell_type": "code",
    "deepnote_to_be_reexecuted": false,
    "execution_millis": 64,
    "execution_start": 1635398862999,
    "id": "ZbelDO66n6on",
    "source_hash": "b1942538",
    "tags": []
   },
   "outputs": [
    {
     "data": {
      "text/plain": [
       "(303, 13)"
      ]
     },
     "execution_count": 647,
     "metadata": {},
     "output_type": "execute_result"
    }
   ],
   "source": [
    "from sklearn.preprocessing import MinMaxScaler\n",
    "scaler = MinMaxScaler()\n",
    "X_num_scaled = scaler.fit_transform(X)\n",
    "X_num_scaled.shape #zero mean unit variance standardization"
   ]
  },
  {
   "cell_type": "code",
   "execution_count": 648,
   "metadata": {
    "cell_id": "00014-1cbb0d42-4f45-4455-9b4b-e7f9234c52c3",
    "deepnote_cell_type": "code",
    "deepnote_to_be_reexecuted": false,
    "execution_millis": 1,
    "execution_start": 1635398864421,
    "id": "zpydg7Dxn6on",
    "source_hash": "2ac1fa4d",
    "tags": []
   },
   "outputs": [],
   "source": [
    "X_num_sc=pd.DataFrame(X_num_scaled,columns=list(X.columns))"
   ]
  },
  {
   "cell_type": "code",
   "execution_count": 649,
   "metadata": {
    "id": "304AOqPboeoI"
   },
   "outputs": [],
   "source": [
    "X_train, X_test, y_train,y_test = train_test_split(X_num_sc,y,test_size=0.3,random_state=42)"
   ]
  },
  {
   "cell_type": "code",
   "execution_count": 650,
   "metadata": {
    "id": "RMm3a9xGoeoI"
   },
   "outputs": [],
   "source": [
    "smt = BorderlineSMOTE(random_state =42)\n",
    "X_t_skew = X_train\n",
    "y_t_skew = y_train\n",
    "X_t_bal, y_bal = smt.fit_resample(X_train,y_train)\n"
   ]
  },
  {
   "cell_type": "code",
   "execution_count": null,
   "metadata": {
    "id": "2Lws61UIop84"
   },
   "outputs": [],
   "source": []
  },
  {
   "cell_type": "markdown",
   "metadata": {
    "id": "JQP1xbVOoblS"
   },
   "source": [
    "## Self_Training"
   ]
  },
  {
   "cell_type": "code",
   "execution_count": null,
   "metadata": {
    "id": "IBz0owSCoblT"
   },
   "outputs": [],
   "source": []
  },
  {
   "cell_type": "markdown",
   "metadata": {
    "id": "NE4l9D96oblT"
   },
   "source": [
    "*Balanced* Dataset"
   ]
  },
  {
   "cell_type": "code",
   "execution_count": 163,
   "metadata": {
    "id": "wrfsgLOmoblU"
   },
   "outputs": [],
   "source": [
    "#self training\n",
    "\n",
    "rfc = RandomForestClassifier(n_estimators=100, criterion =  'entropy', max_depth = 15, max_features = 'auto')\n",
    "stc = SelfTrainingClassifier(rfc)"
   ]
  },
  {
   "cell_type": "code",
   "execution_count": 164,
   "metadata": {
    "id": "9G-VlA0RoblU"
   },
   "outputs": [
    {
     "name": "stdout",
     "output_type": "stream",
     "text": [
      "[[32  9]\n",
      " [10 40]]\n",
      "\n",
      "\n",
      "              precision    recall  f1-score   support\n",
      "\n",
      "           0       0.76      0.78      0.77        41\n",
      "           1       0.82      0.80      0.81        50\n",
      "\n",
      "    accuracy                           0.79        91\n",
      "   macro avg       0.79      0.79      0.79        91\n",
      "weighted avg       0.79      0.79      0.79        91\n",
      "\n",
      "0.8080808080808082\n"
     ]
    }
   ],
   "source": [
    "#fully_supervised\n",
    "rfc.fit(X_t_bal,y_bal)\n",
    "pred = rfc.predict(X_test)\n",
    "print(confusion_matrix(y_test,pred))\n",
    "print('\\n')\n",
    "print(classification_report(y_test,pred))\n",
    "f1 = f1_score(y_test,pred)\n",
    "print(f1)"
   ]
  },
  {
   "cell_type": "code",
   "execution_count": null,
   "metadata": {
    "id": "8BH1mq43oblV"
   },
   "outputs": [],
   "source": []
  },
  {
   "cell_type": "code",
   "execution_count": 165,
   "metadata": {
    "id": "XcLwOtYNoblV"
   },
   "outputs": [
    {
     "name": "stdout",
     "output_type": "stream",
     "text": [
      "[230, 207, 184, 115, 23, 11]\n"
     ]
    }
   ],
   "source": [
    "ls = [1,0.9,0.8,0.5,0.1,0.05]\n",
    "x = y_bal.shape[0]\n",
    "ratios = [int(i*x) for i in ls]\n",
    "print(ratios)"
   ]
  },
  {
   "cell_type": "markdown",
   "metadata": {
    "id": "6HPHOj4foblW"
   },
   "source": [
    "Fitting and predicting"
   ]
  },
  {
   "cell_type": "code",
   "execution_count": 166,
   "metadata": {
    "id": "SFExTFPYoblW"
   },
   "outputs": [
    {
     "name": "stdout",
     "output_type": "stream",
     "text": [
      "[0.8399999999999999, 0.816326530612245, 0.8543689320388349, 0.8712871287128714, 0.7575757575757575, 0.7092198581560284]\n",
      "Runtime for 95% unlabeled data:  0.4744906640044064\n"
     ]
    }
   ],
   "source": [
    "#fitting and caclulating f1 score for each percentage \n",
    "f1scores = []\n",
    "for n in ratios:\n",
    "  y_t = y_bal.copy()\n",
    "  y_t[n:] = -1\n",
    "  if (n==ratios[-1]):\n",
    "    start = timeit.default_timer()\n",
    "  stc = SelfTrainingClassifier(rfc)\n",
    "  stc.fit(X_t_bal,y_t)\n",
    "  if (n==ratios[-1]):\n",
    "    stop = timeit.default_timer()\n",
    "    time_for_95 = stop-start\n",
    "  pred = stc.predict(X_test)\n",
    "  f1scores.append(f1_score(y_test,pred))\n",
    "print(f1scores)\n",
    "print(\"Runtime for 95% unlabeled data: \",time_for_95)"
   ]
  },
  {
   "cell_type": "code",
   "execution_count": 167,
   "metadata": {
    "id": "F-9G629poblX"
   },
   "outputs": [],
   "source": [
    "l = [0,10,20,50,90,95]\n",
    "\n",
    "# f1scores.insert(0,f1)\n"
   ]
  },
  {
   "cell_type": "code",
   "execution_count": 168,
   "metadata": {
    "id": "MPt1IcjGoblX"
   },
   "outputs": [
    {
     "data": {
      "image/png": "[encoded data removed]",
      "text/plain": [
       "<Figure size 800x320 with 1 Axes>"
      ]
     },
     "metadata": {
      "needs_background": "light"
     },
     "output_type": "display_data"
    }
   ],
   "source": [
    "\n",
    "\n",
    "figure(figsize=(10, 4), dpi=80)    \n",
    "\n",
    "plt.xlabel(\"% of unlabeled data\")\n",
    "plt.ylabel(\"F1_score\")\n",
    "plt.title('D3-Balanced Dataset-Self_training')\n",
    "for x,y in zip(l,f1scores):\n",
    "\n",
    "    label = \"{:.4f}\".format(y)\n",
    "\n",
    "    plt.annotate(label, # this is the text\n",
    "                 (x,y), # these are the coordinates to position the label\n",
    "                 textcoords=\"offset points\", # how to position the text\n",
    "                 xytext=(0,10), # distance from text to points (x,y)\n",
    "                 ha='center') # horizontal alignment can be left, right or center\n",
    "plt.grid(which='major', alpha=0.5)\n",
    "plt.plot(l,f1scores,marker=\"o\")\n",
    "plt.show()"
   ]
  },
  {
   "cell_type": "code",
   "execution_count": 169,
   "metadata": {
    "id": "npDrrVnroblY"
   },
   "outputs": [
    {
     "name": "stdout",
     "output_type": "stream",
     "text": [
      "The % of unlabeled data with maximum f1 score:  50\n"
     ]
    }
   ],
   "source": [
    "maxf1 = max(f1scores)\n",
    "maxindex = f1scores.index(maxf1)\n",
    "maxpercent=l[maxindex]\n",
    "print(\"The % of unlabeled data with maximum f1 score: \", maxpercent)"
   ]
  },
  {
   "cell_type": "markdown",
   "metadata": {
    "id": "deWfqOwGoblY"
   },
   "source": [
    "ROC Plotting"
   ]
  },
  {
   "cell_type": "code",
   "execution_count": 170,
   "metadata": {
    "id": "wYvWIYYjoblZ"
   },
   "outputs": [
    {
     "data": {
      "image/png": "[encoded data removed]",
      "text/plain": [
       "<Figure size 432x288 with 1 Axes>"
      ]
     },
     "metadata": {
      "needs_background": "light"
     },
     "output_type": "display_data"
    }
   ],
   "source": [
    "y_score = stc.predict_proba(X_test)[:,1]\n",
    "y_score[np.isnan(y_score)] = 0.5\n",
    "fpr, tpr, thresholds = metrics.roc_curve(y_test, y_score)\n",
    "roc_auc = metrics.auc(fpr, tpr)\n",
    "plt.title('D3-Balanced-Self_training - 95% Unlabeled')\n",
    "plt.plot(fpr, tpr, 'b', label = 'AUC = %0.4f' % roc_auc)\n",
    "plt.legend(loc = 'lower right')\n",
    "# plt.plot([0, 1], [0, 1])\n",
    "plt.xlim([0, 1])\n",
    "plt.ylim([0, 1])\n",
    "plt.ylabel('True Positive Rate')\n",
    "plt.xlabel('False Positive Rate')\n",
    "plt.show()\n"
   ]
  },
  {
   "cell_type": "code",
   "execution_count": 171,
   "metadata": {
    "id": "ns-1uxyToblZ"
   },
   "outputs": [],
   "source": [
    "#since in real life scenario labeled data would be very low thus would be taking the sample with 5% labeled data as the main one\n",
    "d3S_t_bal = f1scores[-1]\n",
    "# D3_bal.append(S_t_bal)"
   ]
  },
  {
   "cell_type": "markdown",
   "metadata": {
    "id": "cOSaL-Abobla"
   },
   "source": [
    "Skewed Dataset"
   ]
  },
  {
   "cell_type": "code",
   "execution_count": 172,
   "metadata": {
    "id": "XO-kApFSobla"
   },
   "outputs": [
    {
     "name": "stdout",
     "output_type": "stream",
     "text": [
      "[[32  9]\n",
      " [ 7 43]]\n",
      "\n",
      "\n",
      "              precision    recall  f1-score   support\n",
      "\n",
      "           0       0.82      0.78      0.80        41\n",
      "           1       0.83      0.86      0.84        50\n",
      "\n",
      "    accuracy                           0.82        91\n",
      "   macro avg       0.82      0.82      0.82        91\n",
      "weighted avg       0.82      0.82      0.82        91\n",
      "\n",
      "0.8431372549019608\n"
     ]
    }
   ],
   "source": [
    "#fully_supervised\n",
    "rfc.fit(X_t_skew,y_t_skew)\n",
    "pred = rfc.predict(X_test)\n",
    "\n",
    "print(confusion_matrix(y_test,pred))\n",
    "print('\\n')\n",
    "print(classification_report(y_test,pred))\n",
    "f1 = f1_score(y_test,pred)\n",
    "print(f1)"
   ]
  },
  {
   "cell_type": "code",
   "execution_count": 173,
   "metadata": {
    "id": "s2aEEPCQobla"
   },
   "outputs": [
    {
     "name": "stdout",
     "output_type": "stream",
     "text": [
      "[212, 190, 169, 106, 21, 10]\n"
     ]
    }
   ],
   "source": [
    "ls = [1,0.9,0.8,0.5,0.1,0.05]\n",
    "x = y_t_skew.shape[0]\n",
    "ratios = [int(i*x) for i in ls]\n",
    "print(ratios)"
   ]
  },
  {
   "cell_type": "markdown",
   "metadata": {
    "id": "_CwUYu_Ioblb"
   },
   "source": [
    "Fitting and Predicting"
   ]
  },
  {
   "cell_type": "code",
   "execution_count": 174,
   "metadata": {
    "id": "k8-xnnthoblb"
   },
   "outputs": [
    {
     "name": "stdout",
     "output_type": "stream",
     "text": [
      "[0.836734693877551, 0.8399999999999999, 0.82, 0.8453608247422681, 0.7538461538461539, 0.7092198581560284]\n",
      "Runtime for 95% unlabeled data:  0.47210450699640205\n"
     ]
    }
   ],
   "source": [
    "f1scores = []\n",
    "for n in ratios:\n",
    "  y_t = y_t_skew.copy()\n",
    "  y_t[n:] = -1\n",
    "  if (n==ratios[-1]):\n",
    "    start = timeit.default_timer()\n",
    "  stc = SelfTrainingClassifier(rfc)\n",
    "  stc.fit(X_t_skew,y_t)\n",
    "  if (n==ratios[-1]):\n",
    "    stop = timeit.default_timer()\n",
    "    time_for_95 = stop-start\n",
    "  pred = stc.predict(X_test)\n",
    "  f1scores.append(f1_score(y_test,pred))\n",
    "print(f1scores)\n",
    "print(\"Runtime for 95% unlabeled data: \",time_for_95)"
   ]
  },
  {
   "cell_type": "code",
   "execution_count": 175,
   "metadata": {
    "id": "aPGuurlGoblc"
   },
   "outputs": [],
   "source": [
    "l = [0,10,20,50,90,95]\n",
    "\n",
    "# f1scores.insert(0,f1)\n"
   ]
  },
  {
   "cell_type": "code",
   "execution_count": 176,
   "metadata": {
    "id": "HPtfF6WPoblc"
   },
   "outputs": [
    {
     "data": {
      "image/png": "[encoded data removed]",
      "text/plain": [
       "<Figure size 800x320 with 1 Axes>"
      ]
     },
     "metadata": {
      "needs_background": "light"
     },
     "output_type": "display_data"
    }
   ],
   "source": [
    "\n",
    "\n",
    "figure(figsize=(10, 4), dpi=80)    \n",
    "\n",
    "plt.xlabel(\"% of unlabeled data\")\n",
    "plt.ylabel(\"F1_score\")\n",
    "plt.title('D3-Skewed Dataset-Self_training')\n",
    "for x,y in zip(l,f1scores):\n",
    "\n",
    "    label = \"{:.4f}\".format(y)\n",
    "\n",
    "    plt.annotate(label, # this is the text\n",
    "                 (x,y), # these are the coordinates to position the label\n",
    "                 textcoords=\"offset points\", # how to position the text\n",
    "                 xytext=(0,10), # distance from text to points (x,y)\n",
    "                 ha='center') # horizontal alignment can be left, right or center\n",
    "plt.grid(which='major', alpha=0.5)\n",
    "plt.plot(l,f1scores,marker=\"o\")\n",
    "plt.show()"
   ]
  },
  {
   "cell_type": "code",
   "execution_count": 177,
   "metadata": {
    "id": "lsAB53Isoblc"
   },
   "outputs": [
    {
     "name": "stdout",
     "output_type": "stream",
     "text": [
      "The % of unlabeled data with maximum f1 score:  50\n"
     ]
    }
   ],
   "source": [
    "maxf1 = max(f1scores)\n",
    "maxindex = f1scores.index(maxf1)\n",
    "maxpercent=l[maxindex]\n",
    "print(\"The % of unlabeled data with maximum f1 score: \", maxpercent)"
   ]
  },
  {
   "cell_type": "markdown",
   "metadata": {
    "id": "xbhOXMkzobld"
   },
   "source": [
    "ROC Plotting"
   ]
  },
  {
   "cell_type": "code",
   "execution_count": 178,
   "metadata": {
    "id": "aa0z0_3Xoble"
   },
   "outputs": [
    {
     "data": {
      "image/png": "[encoded data removed]",
      "text/plain": [
       "<Figure size 432x288 with 1 Axes>"
      ]
     },
     "metadata": {
      "needs_background": "light"
     },
     "output_type": "display_data"
    }
   ],
   "source": [
    "y_score = stc.predict_proba(X_test)[:,1]\n",
    "y_score[np.isnan(y_score)] = 0.5\n",
    "fpr, tpr, thresholds = metrics.roc_curve(y_test, y_score)\n",
    "roc_auc = metrics.auc(fpr, tpr)\n",
    "plt.title('D3-Skewed-Self_training - 95% Unlabeled')\n",
    "plt.plot(fpr, tpr, 'b', label = 'AUC = %0.4f' % roc_auc)\n",
    "plt.legend(loc = 'lower right')\n",
    "# plt.plot([0, 1], [0, 1])\n",
    "plt.xlim([0, 1])\n",
    "plt.ylim([0, 1])\n",
    "plt.ylabel('True Positive Rate')\n",
    "plt.xlabel('False Positive Rate')\n",
    "plt.show()\n"
   ]
  },
  {
   "cell_type": "code",
   "execution_count": 179,
   "metadata": {
    "id": "AH8-V5Looble"
   },
   "outputs": [],
   "source": [
    "#since in real life scenario labeled data would be very low thus would be taking the sample with 5% labeled data as the main one\n",
    "d3S_t_skew = f1scores[-1]\n",
    "# D3_skw.append(S_t_skew)"
   ]
  },
  {
   "cell_type": "code",
   "execution_count": 180,
   "metadata": {
    "id": "7jG9Gp8hoblf"
   },
   "outputs": [],
   "source": [
    "# S_t = max(S_t_skew,S_t_bal)"
   ]
  },
  {
   "cell_type": "code",
   "execution_count": null,
   "metadata": {
    "id": "AuuhXRFcoblf"
   },
   "outputs": [],
   "source": []
  },
  {
   "cell_type": "markdown",
   "metadata": {
    "id": "wYGz-Z5Noblf"
   },
   "source": [
    "## Semi-Ensemble"
   ]
  },
  {
   "cell_type": "markdown",
   "metadata": {
    "id": "icWL4MdNoblf"
   },
   "source": [
    "Balanced Data"
   ]
  },
  {
   "cell_type": "code",
   "execution_count": 181,
   "metadata": {
    "id": "rpoDg2JLoblg"
   },
   "outputs": [
    {
     "name": "stdout",
     "output_type": "stream",
     "text": [
      "[230, 207, 184, 115, 23, 11]\n"
     ]
    }
   ],
   "source": [
    "ls = [1,0.9,0.8,0.5,0.1,0.05]\n",
    "x = y_bal.shape[0]\n",
    "ratios = [int(i*x) for i in ls]\n",
    "print(ratios)"
   ]
  },
  {
   "cell_type": "code",
   "execution_count": 182,
   "metadata": {
    "id": "zFoCf-PLoblg"
   },
   "outputs": [],
   "source": [
    "import warnings\n",
    "warnings.filterwarnings(\"ignore\")"
   ]
  },
  {
   "cell_type": "code",
   "execution_count": 183,
   "metadata": {
    "id": "gYfXTNQVoblh"
   },
   "outputs": [
    {
     "name": "stdout",
     "output_type": "stream",
     "text": [
      "Knnfitted\n",
      "svmfitted\n",
      "dtreefitted\n",
      "rfcitted\n",
      "mlpfitted\n",
      "gbcfitted\n",
      "0.8484848484848485\n",
      "Knnfitted\n",
      "svmfitted\n",
      "dtreefitted\n",
      "rfcitted\n",
      "mlpfitted\n",
      "gbcfitted\n",
      "0.8627450980392156\n",
      "Knnfitted\n",
      "svmfitted\n",
      "dtreefitted\n",
      "rfcitted\n",
      "mlpfitted\n",
      "gbcfitted\n",
      "0.8431372549019608\n",
      "Knnfitted\n",
      "svmfitted\n",
      "dtreefitted\n",
      "rfcitted\n",
      "mlpfitted\n",
      "gbcfitted\n",
      "0.8282828282828283\n",
      "Knnfitted\n",
      "svmfitted\n",
      "dtreefitted\n",
      "rfcitted\n",
      "mlpfitted\n",
      "gbcfitted\n",
      "0.7272727272727273\n",
      "Knnfitted\n",
      "svmfitted\n",
      "dtreefitted\n",
      "rfcitted\n",
      "mlpfitted\n",
      "gbcfitted\n",
      "0.7092198581560284\n",
      "[0.8484848484848485, 0.8627450980392156, 0.8431372549019608, 0.8282828282828283, 0.7272727272727273, 0.7092198581560284]\n",
      "Runtime for 95% unlabeled data:  0.8197509500023443\n"
     ]
    }
   ],
   "source": [
    "#fitting and predicting\n",
    "f1scores = []\n",
    "for n in ratios:\n",
    "  y_t = y_bal.copy()\n",
    "  y_t[n:] = -1\n",
    "  if (n==ratios[-1]):\n",
    "    start = timeit.default_timer()\n",
    "  ens= ashishsemiensemble()\n",
    "  ens.fit(X_t_bal,y_t)\n",
    "  if (n==ratios[-1]):\n",
    "    stop = timeit.default_timer()\n",
    "    time_for_95 = stop-start\n",
    "  pred = ens.predict(X_test)\n",
    "  f1scores.append(f1_score(y_test,pred))\n",
    "  print(f1_score(y_test,pred))\n",
    "print(f1scores)\n",
    "print(\"Runtime for 95% unlabeled data: \",time_for_95)"
   ]
  },
  {
   "cell_type": "code",
   "execution_count": 184,
   "metadata": {
    "id": "JKpmuYzmoblh"
   },
   "outputs": [],
   "source": [
    "l = [0,10,20,50,90,95]"
   ]
  },
  {
   "cell_type": "markdown",
   "metadata": {
    "id": "JNmFf0B9obli"
   },
   "source": [
    "F-1 score with % unlabeled Data"
   ]
  },
  {
   "cell_type": "code",
   "execution_count": 185,
   "metadata": {
    "id": "izjco9pQobli"
   },
   "outputs": [
    {
     "data": {
      "image/png": "[encoded data removed]",
      "text/plain": [
       "<Figure size 800x320 with 1 Axes>"
      ]
     },
     "metadata": {
      "needs_background": "light"
     },
     "output_type": "display_data"
    }
   ],
   "source": [
    "figure(figsize=(10, 4), dpi=80)    \n",
    "\n",
    "plt.xlabel(\"% of unlabeled data\")\n",
    "plt.ylabel(\"F1_score\")\n",
    "plt.title('D3 - Balanced Dataset:Semi-Ensemble')\n",
    "for x,y in zip(l,f1scores):\n",
    "\n",
    "    label = \"{:.4f}\".format(y)\n",
    "\n",
    "    plt.annotate(label, # this is the text\n",
    "                 (x,y), # these are the coordinates to position the label\n",
    "                 textcoords=\"offset points\", # how to position the text\n",
    "                 xytext=(0,10), # distance from text to points (x,y)\n",
    "                 ha='center') # horizontal alignment can be left, right or center\n",
    "plt.grid(which='major', alpha=0.5)\n",
    "plt.plot(l,f1scores,marker=\"o\")\n",
    "plt.show()"
   ]
  },
  {
   "cell_type": "code",
   "execution_count": 186,
   "metadata": {
    "id": "nHzvvu-0obli"
   },
   "outputs": [
    {
     "name": "stdout",
     "output_type": "stream",
     "text": [
      "The % of unlabeled data with maximum f1 score:  10\n"
     ]
    }
   ],
   "source": [
    "maxf1 = max(f1scores)\n",
    "maxindex = f1scores.index(maxf1)\n",
    "maxpercent=l[maxindex]\n",
    "print(\"The % of unlabeled data with maximum f1 score: \", maxpercent)"
   ]
  },
  {
   "cell_type": "code",
   "execution_count": null,
   "metadata": {
    "id": "i39Bk6hKoblj"
   },
   "outputs": [],
   "source": []
  },
  {
   "cell_type": "code",
   "execution_count": null,
   "metadata": {
    "id": "tgXESBUmoblj"
   },
   "outputs": [],
   "source": [
    " "
   ]
  },
  {
   "cell_type": "markdown",
   "metadata": {
    "id": "IP5g61yroblk"
   },
   "source": [
    "ROC Plotting"
   ]
  },
  {
   "cell_type": "code",
   "execution_count": 187,
   "metadata": {
    "id": "JRSwGkyVoblk"
   },
   "outputs": [
    {
     "data": {
      "image/png": "[encoded data removed]",
      "text/plain": [
       "<Figure size 432x288 with 1 Axes>"
      ]
     },
     "metadata": {
      "needs_background": "light"
     },
     "output_type": "display_data"
    }
   ],
   "source": [
    "y_score = ens.predict_proba(X_test)[:,1]\n",
    "y_score[np.isnan(y_score)] = 0.5\n",
    "fpr, tpr, thresholds = metrics.roc_curve(y_test, y_score)\n",
    "roc_auc = metrics.auc(fpr, tpr)\n",
    "plt.title('D3-Balanced-Semi-Ensemble 95% Unlabeled')\n",
    "plt.plot(fpr, tpr, 'b', label = 'AUC = %0.4f' % roc_auc)\n",
    "plt.legend(loc = 'lower right')\n",
    "# plt.plot([0, 1], [0, 1])\n",
    "plt.xlim([0, 1])\n",
    "plt.ylim([0, 1])\n",
    "plt.ylabel('True Positive Rate')\n",
    "plt.xlabel('False Positive Rate')\n",
    "plt.show()\n"
   ]
  },
  {
   "cell_type": "code",
   "execution_count": 188,
   "metadata": {
    "id": "_A_gpWNtoblk"
   },
   "outputs": [],
   "source": [
    "d3ens_bal = f1scores[-1]\n",
    "# D3_bal.append(ens_bal)"
   ]
  },
  {
   "cell_type": "markdown",
   "metadata": {
    "id": "53LQXQgjobll"
   },
   "source": [
    "Skewed Dataset"
   ]
  },
  {
   "cell_type": "code",
   "execution_count": 189,
   "metadata": {
    "id": "7A_UB22iobll"
   },
   "outputs": [
    {
     "name": "stdout",
     "output_type": "stream",
     "text": [
      "[212, 190, 169, 106, 21, 10]\n"
     ]
    }
   ],
   "source": [
    "ls = [1,0.9,0.8,0.5,0.1,0.05]\n",
    "x = y_t_skew.shape[0]\n",
    "ratios = [int(i*x) for i in ls]\n",
    "print(ratios)"
   ]
  },
  {
   "cell_type": "code",
   "execution_count": 190,
   "metadata": {
    "id": "elwWmJluoblm"
   },
   "outputs": [
    {
     "name": "stdout",
     "output_type": "stream",
     "text": [
      "Knnfitted\n",
      "svmfitted\n",
      "dtreefitted\n",
      "rfcitted\n",
      "mlpfitted\n",
      "gbcfitted\n",
      "0.8599999999999999\n",
      "Knnfitted\n",
      "svmfitted\n",
      "dtreefitted\n",
      "rfcitted\n",
      "mlpfitted\n",
      "gbcfitted\n",
      "0.8282828282828283\n",
      "Knnfitted\n",
      "svmfitted\n",
      "dtreefitted\n",
      "rfcitted\n",
      "mlpfitted\n",
      "gbcfitted\n",
      "0.8282828282828283\n",
      "Knnfitted\n",
      "svmfitted\n",
      "dtreefitted\n",
      "rfcitted\n",
      "mlpfitted\n",
      "gbcfitted\n",
      "0.8316831683168315\n",
      "Knnfitted\n",
      "svmfitted\n",
      "dtreefitted\n",
      "rfcitted\n",
      "mlpfitted\n",
      "gbcfitted\n",
      "0.7758620689655172\n",
      "Knnfitted\n",
      "svmfitted\n",
      "dtreefitted\n",
      "rfcitted\n",
      "mlpfitted\n",
      "gbcfitted\n",
      "0.7092198581560284\n",
      "[0.8599999999999999, 0.8282828282828283, 0.8282828282828283, 0.8316831683168315, 0.7758620689655172, 0.7092198581560284]\n",
      "Runtime for 95% unlabeled data:  0.8320882649932173\n"
     ]
    }
   ],
   "source": [
    "f1scores = []\n",
    "for n in ratios:\n",
    "  y_t = y_t_skew.copy()\n",
    "  y_t[n:] = -1\n",
    "  if (n==ratios[-1]):\n",
    "    start = timeit.default_timer()\n",
    "  ens= ashishsemiensemble()\n",
    "  ens.fit(X_t_skew,y_t)\n",
    "  if (n==ratios[-1]):\n",
    "    stop = timeit.default_timer()\n",
    "    time_for_95 = stop-start\n",
    "  pred = ens.predict(X_test)\n",
    "  f1scores.append(f1_score(y_test,pred))\n",
    "  print(f1_score(y_test,pred))\n",
    "print(f1scores)\n",
    "print(\"Runtime for 95% unlabeled data: \",time_for_95)"
   ]
  },
  {
   "cell_type": "code",
   "execution_count": 191,
   "metadata": {
    "id": "rJBHKEh_oblm"
   },
   "outputs": [
    {
     "data": {
      "image/png": "[encoded data removed]",
      "text/plain": [
       "<Figure size 800x320 with 1 Axes>"
      ]
     },
     "metadata": {
      "needs_background": "light"
     },
     "output_type": "display_data"
    }
   ],
   "source": [
    "figure(figsize=(10, 4), dpi=80)    \n",
    "\n",
    "plt.xlabel(\"% of unlabeled data\")\n",
    "plt.ylabel(\"F1_score\")\n",
    "plt.title('D3 -Skewed Dataset: Semi-Ensemble:')\n",
    "for x,y in zip(l,f1scores):\n",
    "\n",
    "    label = \"{:.4f}\".format(y)\n",
    "\n",
    "    plt.annotate(label, # this is the text\n",
    "                 (x,y), # these are the coordinates to position the label\n",
    "                 textcoords=\"offset points\", # how to position the text\n",
    "                 xytext=(0,10), # distance from text to points (x,y)\n",
    "                 ha='center') # horizontal alignment can be left, right or center\n",
    "plt.grid(which='major', alpha=0.5)\n",
    "plt.plot(l,f1scores,marker=\"o\")\n",
    "plt.show()"
   ]
  },
  {
   "cell_type": "code",
   "execution_count": 192,
   "metadata": {
    "id": "EY9d0tZrobln"
   },
   "outputs": [
    {
     "name": "stdout",
     "output_type": "stream",
     "text": [
      "The % of unlabeled data with maximum f1 score:  0\n"
     ]
    }
   ],
   "source": [
    "maxf1 = max(f1scores)\n",
    "maxindex = f1scores.index(maxf1)\n",
    "maxpercent=l[maxindex]\n",
    "print(\"The % of unlabeled data with maximum f1 score: \", maxpercent)"
   ]
  },
  {
   "cell_type": "markdown",
   "metadata": {
    "id": "wNLhU5ofobln"
   },
   "source": [
    "ROC Plotting"
   ]
  },
  {
   "cell_type": "code",
   "execution_count": 193,
   "metadata": {
    "id": "yd_Rnhfkobln"
   },
   "outputs": [
    {
     "data": {
      "image/png": "[encoded data removed]",
      "text/plain": [
       "<Figure size 432x288 with 1 Axes>"
      ]
     },
     "metadata": {
      "needs_background": "light"
     },
     "output_type": "display_data"
    }
   ],
   "source": [
    "y_score = ens.predict_proba(X_test)[:,1]\n",
    "y_score[np.isnan(y_score)] = 0.5\n",
    "fpr, tpr, thresholds = metrics.roc_curve(y_test, y_score)\n",
    "roc_auc = metrics.auc(fpr, tpr)\n",
    "plt.title('D3-Skewed-Semi-Ensemble 95% Unlabeled')\n",
    "plt.plot(fpr, tpr, 'b', label = 'AUC = %0.4f' % roc_auc)\n",
    "plt.legend(loc = 'lower right')\n",
    "# plt.plot([0, 1], [0, 1])\n",
    "plt.xlim([0, 1])\n",
    "plt.ylim([0, 1])\n",
    "plt.ylabel('True Positive Rate')\n",
    "plt.xlabel('False Positive Rate')\n",
    "plt.show()\n"
   ]
  },
  {
   "cell_type": "code",
   "execution_count": 194,
   "metadata": {
    "id": "O6Fw7YKCoblo"
   },
   "outputs": [],
   "source": [
    "d3ens_skew = f1scores[-1]\n",
    "# D3_skw.append(ens_skew)"
   ]
  },
  {
   "cell_type": "markdown",
   "metadata": {
    "id": "XOXr0njYoblo"
   },
   "source": [
    "## Gausian Mixture Clustering and Random Forest"
   ]
  },
  {
   "cell_type": "markdown",
   "metadata": {
    "id": "Jr-z8zl5oblp"
   },
   "source": [
    "Balanced Data"
   ]
  },
  {
   "cell_type": "code",
   "execution_count": 651,
   "metadata": {
    "id": "a7d23U4goblp"
   },
   "outputs": [
    {
     "name": "stdout",
     "output_type": "stream",
     "text": [
      "[230, 207, 184, 115, 23, 11]\n"
     ]
    }
   ],
   "source": [
    "ls = [1,0.9,0.8,0.5,0.1,0.05]\n",
    "x = y_bal.shape[0]\n",
    "ratios = [int(i*x) for i in ls]\n",
    "print(ratios)"
   ]
  },
  {
   "cell_type": "code",
   "execution_count": 652,
   "metadata": {
    "id": "l1ooTbxdoblq"
   },
   "outputs": [],
   "source": [
    "import warnings\n",
    "warnings.filterwarnings(\"ignore\")"
   ]
  },
  {
   "cell_type": "code",
   "execution_count": 653,
   "metadata": {
    "id": "IQdGnYpKoblq"
   },
   "outputs": [
    {
     "name": "stdout",
     "output_type": "stream",
     "text": [
      "0.8080808080808082\n",
      "0.8431372549019608\n",
      "0.819047619047619\n",
      "0.6075949367088608\n",
      "0.7454545454545455\n",
      "0.7454545454545455\n",
      "[0.8080808080808082, 0.8431372549019608, 0.819047619047619, 0.6075949367088608, 0.7454545454545455, 0.7454545454545455]\n",
      "Runtime for 95% unlabeled data:  0.11488047800958157\n"
     ]
    }
   ],
   "source": [
    "f1scores = []\n",
    "for n in ratios:\n",
    "    y_t = y_bal.copy()\n",
    "    y_t[n:] = -1\n",
    "    if (n==ratios[-1]):\n",
    "        start = timeit.default_timer()\n",
    "    lbp= gausandrf()\n",
    "    lbp.fit(X_t_bal,y_t)\n",
    "    if (n==ratios[-1]):\n",
    "        stop = timeit.default_timer()\n",
    "        time_for_95 = stop-start\n",
    "    pred = lbp.predict(X_test)\n",
    "    f1scores.append(f1_score(y_test,pred))\n",
    "    print(f1_score(y_test,pred))\n",
    "print(f1scores)\n",
    "print(\"Runtime for 95% unlabeled data: \",time_for_95)"
   ]
  },
  {
   "cell_type": "code",
   "execution_count": 654,
   "metadata": {
    "id": "dKDFap8_oblr"
   },
   "outputs": [],
   "source": [
    "l = [0,10,20,50,90,95]"
   ]
  },
  {
   "cell_type": "code",
   "execution_count": 655,
   "metadata": {
    "id": "swNu0lAioblr"
   },
   "outputs": [
    {
     "data": {
      "image/png": "[encoded data removed]",
      "text/plain": [
       "<Figure size 800x320 with 1 Axes>"
      ]
     },
     "metadata": {
      "needs_background": "light"
     },
     "output_type": "display_data"
    }
   ],
   "source": [
    "figure(figsize=(10, 4), dpi=80)    \n",
    "\n",
    "plt.xlabel(\"% of unlabeled data\")\n",
    "plt.ylabel(\"F1_score\")\n",
    "plt.title('D3 Balanced Dataset- Gausian Mixture Clustering and Random Forest')\n",
    "for x,y in zip(l,f1scores):\n",
    "\n",
    "    label = \"{:.4f}\".format(y)\n",
    "\n",
    "    plt.annotate(label, \n",
    "                 (x,y), \n",
    "                 textcoords=\"offset points\", \n",
    "                 xytext=(0,10), \n",
    "                 ha='center') \n",
    "plt.grid(which='major', alpha=0.5)\n",
    "plt.plot(l,f1scores,marker=\"o\")\n",
    "plt.show()"
   ]
  },
  {
   "cell_type": "code",
   "execution_count": 656,
   "metadata": {
    "id": "Ep7HXjJnobls"
   },
   "outputs": [
    {
     "name": "stdout",
     "output_type": "stream",
     "text": [
      "The % of unlabeled data with maximum f1 score:  10\n"
     ]
    }
   ],
   "source": [
    "maxf1 = max(f1scores)\n",
    "maxindex = f1scores.index(maxf1)\n",
    "maxpercent=l[maxindex]\n",
    "print(\"The % of unlabeled data with maximum f1 score: \", maxpercent)"
   ]
  },
  {
   "cell_type": "code",
   "execution_count": null,
   "metadata": {
    "id": "93S66YrGobls"
   },
   "outputs": [],
   "source": []
  },
  {
   "cell_type": "code",
   "execution_count": 657,
   "metadata": {
    "id": "VPZP4bqFobls"
   },
   "outputs": [
    {
     "data": {
      "image/png": "[encoded data removed]",
      "text/plain": [
       "<Figure size 432x288 with 1 Axes>"
      ]
     },
     "metadata": {
      "needs_background": "light"
     },
     "output_type": "display_data"
    }
   ],
   "source": [
    "y_score = lbp.predict_proba(X_test)[:,1]\n",
    "y_score[np.isnan(y_score)] = 0.5\n",
    "fpr, tpr, thresholds = metrics.roc_curve(y_test, y_score)\n",
    "roc_auc = metrics.auc(fpr, tpr)\n",
    "plt.title('D3 Balanced-Gausian Mixture Clustering and Random Forest 95% Unlabeled')\n",
    "plt.plot(fpr, tpr, 'b', label = 'AUC = %0.4f' % roc_auc)\n",
    "plt.legend(loc = 'lower right')\n",
    "# plt.plot([0, 1], [0, 1])\n",
    "plt.xlim([0, 1])\n",
    "plt.ylim([0, 1])\n",
    "plt.ylabel('True Positive Rate')\n",
    "plt.xlabel('False Positive Rate')\n",
    "plt.show()\n",
    "#  y_scorel.shape\n",
    "# metrics.plot_roc_curve(lbp, X_test, y_test,pos_label=1)\n"
   ]
  },
  {
   "cell_type": "code",
   "execution_count": 658,
   "metadata": {
    "id": "AcUV6460oblt"
   },
   "outputs": [],
   "source": [
    "d3lbp_bal = f1scores[-1]\n",
    "# D3_bal.append(lbp_bal)"
   ]
  },
  {
   "cell_type": "markdown",
   "metadata": {
    "id": "S6Pgh1K4oblt"
   },
   "source": [
    "Skewed Dataset"
   ]
  },
  {
   "cell_type": "code",
   "execution_count": 659,
   "metadata": {
    "id": "iQJysdIOoblu"
   },
   "outputs": [
    {
     "name": "stdout",
     "output_type": "stream",
     "text": [
      "[212, 190, 169, 106, 21, 10]\n"
     ]
    }
   ],
   "source": [
    "ls = [1,0.9,0.8,0.5,0.1,0.05]\n",
    "x = y_t_skew.shape[0]\n",
    "ratios = [int(i*x) for i in ls]\n",
    "print(ratios)"
   ]
  },
  {
   "cell_type": "code",
   "execution_count": 660,
   "metadata": {
    "id": "M8xJnIWAoblu"
   },
   "outputs": [
    {
     "name": "stdout",
     "output_type": "stream",
     "text": [
      "0.82\n",
      "0.8316831683168315\n",
      "0.8\n",
      "0.7735849056603773\n",
      "0.7454545454545455\n",
      "0.7454545454545455\n",
      "[0.82, 0.8316831683168315, 0.8, 0.7735849056603773, 0.7454545454545455, 0.7454545454545455]\n",
      "Runtime for 95% unlabeled data:  0.11502000599284656\n"
     ]
    }
   ],
   "source": [
    "f1scores = []\n",
    "for n in ratios:\n",
    "    y_t = y_t_skew.copy()\n",
    "    y_t[n:] = -1\n",
    "    if (n==ratios[-1]):\n",
    "        start = timeit.default_timer()\n",
    "    lbp= gausandrf()\n",
    "    lbp.fit(X_t_skew,y_t)\n",
    "    if (n==ratios[-1]):\n",
    "        stop = timeit.default_timer()\n",
    "        time_for_95 = stop-start\n",
    "    pred = lbp.predict(X_test)\n",
    "    f1scores.append(f1_score(y_test,pred))\n",
    "    print(f1_score(y_test,pred))\n",
    "print(f1scores)\n",
    "print(\"Runtime for 95% unlabeled data: \",time_for_95)"
   ]
  },
  {
   "cell_type": "code",
   "execution_count": 661,
   "metadata": {
    "id": "MF5E7MCHoblv"
   },
   "outputs": [
    {
     "data": {
      "image/png": "[encoded data removed]",
      "text/plain": [
       "<Figure size 800x320 with 1 Axes>"
      ]
     },
     "metadata": {
      "needs_background": "light"
     },
     "output_type": "display_data"
    }
   ],
   "source": [
    "figure(figsize=(10, 4), dpi=80)    \n",
    "\n",
    "plt.xlabel(\"% of unlabeled data\")\n",
    "plt.ylabel(\"F1_score\")\n",
    "plt.title('D3-Skewed Dataset: Gausian Mixture Clustering and Random Forest')\n",
    "for x,y in zip(l,f1scores):\n",
    "\n",
    "    label = \"{:.4f}\".format(y)\n",
    "\n",
    "    plt.annotate(label, # this is the text\n",
    "                 (x,y), # these are the coordinates to position the label\n",
    "                 textcoords=\"offset points\", # how to position the text\n",
    "                 xytext=(0,10), # distance from text to points (x,y)\n",
    "                 ha='center') # horizontal alignment can be left, right or center\n",
    "plt.grid(which='major', alpha=0.5)\n",
    "plt.plot(l,f1scores,marker=\"o\")\n",
    "plt.show()"
   ]
  },
  {
   "cell_type": "code",
   "execution_count": 662,
   "metadata": {
    "id": "NkmeGLTWoblw"
   },
   "outputs": [
    {
     "name": "stdout",
     "output_type": "stream",
     "text": [
      "The % of unlabeled data with maximum f1 score:  10\n"
     ]
    }
   ],
   "source": [
    "maxf1 = max(f1scores)\n",
    "maxindex = f1scores.index(maxf1)\n",
    "maxpercent=l[maxindex]\n",
    "print(\"The % of unlabeled data with maximum f1 score: \", maxpercent)"
   ]
  },
  {
   "cell_type": "code",
   "execution_count": null,
   "metadata": {
    "id": "IV5ptOR4oblw"
   },
   "outputs": [],
   "source": []
  },
  {
   "cell_type": "markdown",
   "metadata": {
    "id": "9QAZzX3Joblw"
   },
   "source": [
    "ROC Curve"
   ]
  },
  {
   "cell_type": "code",
   "execution_count": 663,
   "metadata": {
    "id": "hUiMarlcoblx"
   },
   "outputs": [
    {
     "data": {
      "image/png": "[encoded data removed]",
      "text/plain": [
       "<Figure size 432x288 with 1 Axes>"
      ]
     },
     "metadata": {
      "needs_background": "light"
     },
     "output_type": "display_data"
    }
   ],
   "source": [
    "y_score = lbp.predict_proba(X_test)[:,1]\n",
    "y_score[np.isnan(y_score)] = 0.5\n",
    "fpr, tpr, thresholds = metrics.roc_curve(y_test, y_score)\n",
    "roc_auc = metrics.auc(fpr, tpr)\n",
    "plt.title('D3 Skewed-Gausian Mixture Clustering and Random Forest 95% Unlabeled')\n",
    "plt.plot(fpr, tpr, 'b', label = 'AUC = %0.4f' % roc_auc)\n",
    "plt.legend(loc = 'lower right')\n",
    "# plt.plot([0, 1], [0, 1])\n",
    "plt.xlim([0, 1])\n",
    "plt.ylim([0, 1])\n",
    "plt.ylabel('True Positive Rate')\n",
    "plt.xlabel('False Positive Rate')\n",
    "plt.show()\n",
    "#  y_scorel.shape\n",
    "# metrics.plot_roc_curve(lbp, X_test, y_test,pos_label=1)\n"
   ]
  },
  {
   "cell_type": "code",
   "execution_count": 664,
   "metadata": {
    "id": "9fFZ2Rrcobly"
   },
   "outputs": [],
   "source": [
    "d3lbp_skew = f1scores[-1]\n",
    "# D3_skw.append(lbp_skew)"
   ]
  },
  {
   "cell_type": "code",
   "execution_count": null,
   "metadata": {
    "id": "Z1tahhBLobly"
   },
   "outputs": [],
   "source": []
  },
  {
   "cell_type": "markdown",
   "metadata": {
    "id": "mH3Xm7ztvqxE"
   },
   "source": [
    "# Friedman Test"
   ]
  },
  {
   "cell_type": "code",
   "execution_count": 665,
   "metadata": {
    "id": "ggNBcYLKvvEj"
   },
   "outputs": [
    {
     "name": "stdout",
     "output_type": "stream",
     "text": [
      "[0.6287262872628726, 0.555440414507772, 0.21253405994550406]\n",
      "[0.5914935707220573, 0.49767441860465106, 0.5185614849187936]\n"
     ]
    }
   ],
   "source": [
    "D1_bal =[d1S_t_bal,d1ens_bal,d1lbp_bal]\n",
    "D1_skw =[d1S_t_skew,d1ens_skew,d1lbp_skew]\n",
    "print(D1_bal)\n",
    "print(D1_skw)"
   ]
  },
  {
   "cell_type": "code",
   "execution_count": 666,
   "metadata": {
    "id": "5DVkZxLlwCg0"
   },
   "outputs": [
    {
     "name": "stdout",
     "output_type": "stream",
     "text": [
      "[0.8330871491875923, 0.8216833095577747, 0.17721518987341772]\n",
      "[0.8275862068965516, 0.8309037900874634, 0.17721518987341772]\n"
     ]
    }
   ],
   "source": [
    "D2_bal =[d2S_t_bal,d2ens_bal,d2lbp_bal]\n",
    "D2_skw =[d2S_t_skew,d2ens_skew,d2lbp_skew]\n",
    "print(D2_bal)\n",
    "print(D2_skw)"
   ]
  },
  {
   "cell_type": "code",
   "execution_count": 667,
   "metadata": {
    "id": "DECqQWdPwCtK"
   },
   "outputs": [
    {
     "name": "stdout",
     "output_type": "stream",
     "text": [
      "[0.7092198581560284, 0.7092198581560284, 0.7454545454545455]\n",
      "[0.7092198581560284, 0.7092198581560284, 0.7454545454545455]\n"
     ]
    }
   ],
   "source": [
    "D3_bal =[d3S_t_bal,d3ens_bal,d3lbp_bal]\n",
    "D3_skw =[d3S_t_skew,d3ens_skew,d3lbp_skew]\n",
    "print(D3_bal)\n",
    "print(D3_skw)"
   ]
  },
  {
   "cell_type": "code",
   "execution_count": 668,
   "metadata": {
    "scrolled": true
   },
   "outputs": [
    {
     "data": {
      "text/html": [
       "<div>\n",
       "<style scoped>\n",
       "    .dataframe tbody tr th:only-of-type {\n",
       "        vertical-align: middle;\n",
       "    }\n",
       "\n",
       "    .dataframe tbody tr th {\n",
       "        vertical-align: top;\n",
       "    }\n",
       "\n",
       "    .dataframe thead th {\n",
       "        text-align: right;\n",
       "    }\n",
       "</style>\n",
       "<table border=\"1\" class=\"dataframe\">\n",
       "  <thead>\n",
       "    <tr style=\"text-align: right;\">\n",
       "      <th></th>\n",
       "      <th>Self_training</th>\n",
       "      <th>Semi-Ensemble</th>\n",
       "      <th>GausMix_rf</th>\n",
       "    </tr>\n",
       "  </thead>\n",
       "  <tbody>\n",
       "    <tr>\n",
       "      <th>0</th>\n",
       "      <td>0.628726</td>\n",
       "      <td>0.555440</td>\n",
       "      <td>0.212534</td>\n",
       "    </tr>\n",
       "    <tr>\n",
       "      <th>1</th>\n",
       "      <td>0.833087</td>\n",
       "      <td>0.821683</td>\n",
       "      <td>0.177215</td>\n",
       "    </tr>\n",
       "    <tr>\n",
       "      <th>2</th>\n",
       "      <td>0.709220</td>\n",
       "      <td>0.709220</td>\n",
       "      <td>0.745455</td>\n",
       "    </tr>\n",
       "  </tbody>\n",
       "</table>\n",
       "</div>"
      ],
      "text/plain": [
       "   Self_training  Semi-Ensemble  GausMix_rf\n",
       "0       0.628726       0.555440    0.212534\n",
       "1       0.833087       0.821683    0.177215\n",
       "2       0.709220       0.709220    0.745455"
      ]
     },
     "execution_count": 668,
     "metadata": {},
     "output_type": "execute_result"
    }
   ],
   "source": [
    "ftest_bal =  pd.DataFrame([D1_bal,D2_bal,D3_bal],columns=['Self_training','Semi-Ensemble','GausMix_rf'])\n",
    "ftest_bal"
   ]
  },
  {
   "cell_type": "code",
   "execution_count": 669,
   "metadata": {},
   "outputs": [
    {
     "name": "stdout",
     "output_type": "stream",
     "text": [
      "Statistics=1.273, p=0.529\n",
      "Same distributions (fail to reject H0)\n"
     ]
    }
   ],
   "source": [
    "from scipy import stats\n",
    "stat, p = stats.friedmanchisquare(ftest_bal['Self_training'],ftest_bal['Semi-Ensemble'],ftest_bal['GausMix_rf'])\n",
    "print('Statistics=%.3f, p=%.3f' % (stat, p))\n",
    "alpha =0.1\n",
    "if p > alpha:\n",
    "    print('Same distributions (fail to reject H0)')\n",
    "else:\n",
    "    print('Different distributions (reject H0)')"
   ]
  },
  {
   "cell_type": "code",
   "execution_count": 670,
   "metadata": {},
   "outputs": [
    {
     "data": {
      "text/html": [
       "<div>\n",
       "<style scoped>\n",
       "    .dataframe tbody tr th:only-of-type {\n",
       "        vertical-align: middle;\n",
       "    }\n",
       "\n",
       "    .dataframe tbody tr th {\n",
       "        vertical-align: top;\n",
       "    }\n",
       "\n",
       "    .dataframe thead th {\n",
       "        text-align: right;\n",
       "    }\n",
       "</style>\n",
       "<table border=\"1\" class=\"dataframe\">\n",
       "  <thead>\n",
       "    <tr style=\"text-align: right;\">\n",
       "      <th></th>\n",
       "      <th>Self_training</th>\n",
       "      <th>Semi-Ensemble</th>\n",
       "      <th>GausMix_rf</th>\n",
       "    </tr>\n",
       "  </thead>\n",
       "  <tbody>\n",
       "    <tr>\n",
       "      <th>0</th>\n",
       "      <td>0.591494</td>\n",
       "      <td>0.497674</td>\n",
       "      <td>0.518561</td>\n",
       "    </tr>\n",
       "    <tr>\n",
       "      <th>1</th>\n",
       "      <td>0.827586</td>\n",
       "      <td>0.830904</td>\n",
       "      <td>0.177215</td>\n",
       "    </tr>\n",
       "    <tr>\n",
       "      <th>2</th>\n",
       "      <td>0.709220</td>\n",
       "      <td>0.709220</td>\n",
       "      <td>0.745455</td>\n",
       "    </tr>\n",
       "  </tbody>\n",
       "</table>\n",
       "</div>"
      ],
      "text/plain": [
       "   Self_training  Semi-Ensemble  GausMix_rf\n",
       "0       0.591494       0.497674    0.518561\n",
       "1       0.827586       0.830904    0.177215\n",
       "2       0.709220       0.709220    0.745455"
      ]
     },
     "execution_count": 670,
     "metadata": {},
     "output_type": "execute_result"
    }
   ],
   "source": [
    "ftest_skw =  pd.DataFrame([D1_skw,D2_skw,D3_skw],columns=['Self_training','Semi-Ensemble','GausMix_rf'])\n",
    "ftest_skw"
   ]
  },
  {
   "cell_type": "code",
   "execution_count": 671,
   "metadata": {},
   "outputs": [
    {
     "name": "stdout",
     "output_type": "stream",
     "text": [
      "Statistics=0.182, p=0.913\n",
      "Same distributions (fail to reject H0)\n"
     ]
    }
   ],
   "source": [
    "stat, p = stats.friedmanchisquare(ftest_skw['Self_training'],ftest_skw['Semi-Ensemble'],ftest_skw['GausMix_rf'])\n",
    "print('Statistics=%.3f, p=%.3f' % (stat, p))\n",
    "alpha =0.1\n",
    "if p > alpha:\n",
    "    print('Same distributions (fail to reject H0)')\n",
    "else:\n",
    "    print('Different distributions (reject H0)')"
   ]
  },
  {
   "cell_type": "code",
   "execution_count": 673,
   "metadata": {},
   "outputs": [],
   "source": [
    "# import scikit_posthocs as sp\n",
    "# sp.posthoc_nemenyi_friedman(ftest_skw)"
   ]
  },
  {
   "cell_type": "code",
   "execution_count": null,
   "metadata": {},
   "outputs": [],
   "source": []
  },
  {
   "cell_type": "code",
   "execution_count": null,
   "metadata": {},
   "outputs": [],
   "source": []
  }
 ],
 "metadata": {
  "colab": {
   "collapsed_sections": [
    "l7RbzhMRRL-W",
    "BMMcfEAU_tb5",
    "OF5f6-NiUMOe",
    "SHtrPSjSd7LR",
    "beWRuoCyWgaf",
    "fCGHbFIcctCT",
    "8iThi4BxiOFp",
    "ZfN3147ItEnd",
    "DiIXl4cPtEnp",
    "axeTArootEn2",
    "JQP1xbVOoblS",
    "wYGz-Z5Noblf"
   ],
   "name": "ML_Project.ipynb",
   "provenance": []
  },
  "kernelspec": {
   "display_name": "Python 3",
   "language": "python",
   "name": "python3"
  },
  "language_info": {
   "codemirror_mode": {
    "name": "ipython",
    "version": 3
   },
   "file_extension": ".py",
   "mimetype": "text/x-python",
   "name": "python",
   "nbconvert_exporter": "python",
   "pygments_lexer": "ipython3",
   "version": "3.6.12"
  }
 },
 "nbformat": 4,
 "nbformat_minor": 1
}
